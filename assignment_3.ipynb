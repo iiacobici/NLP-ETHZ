{
  "nbformat": 4,
  "nbformat_minor": 0,
  "metadata": {
    "colab": {
      "provenance": []
    },
    "kernelspec": {
      "name": "python3",
      "display_name": "Python 3"
    },
    "language_info": {
      "name": "python"
    }
  },
  "cells": [
    {
      "cell_type": "markdown",
      "source": [
        "# Assignment 3 - Transliteration"
      ],
      "metadata": {
        "id": "XSIPwHJdYR6E"
      }
    },
    {
      "cell_type": "markdown",
      "source": [
        "### Setup [do not change]"
      ],
      "metadata": {
        "id": "pcy6UafEX5hB"
      }
    },
    {
      "cell_type": "code",
      "execution_count": null,
      "metadata": {
        "id": "kN-iTMK8ScoR",
        "outputId": "fb68dcc8-7334-4139-cd4d-851c8fc9967a",
        "colab": {
          "base_uri": "https://localhost:8080/"
        }
      },
      "outputs": [
        {
          "output_type": "stream",
          "name": "stdout",
          "text": [
            "Cloning into 'eth-nlp-f22-hw3'...\n",
            "remote: Enumerating objects: 36, done.\u001b[K\n",
            "remote: Counting objects:   2% (1/36)\u001b[K\rremote: Counting objects:   5% (2/36)\u001b[K\rremote: Counting objects:   8% (3/36)\u001b[K\rremote: Counting objects:  11% (4/36)\u001b[K\rremote: Counting objects:  13% (5/36)\u001b[K\rremote: Counting objects:  16% (6/36)\u001b[K\rremote: Counting objects:  19% (7/36)\u001b[K\rremote: Counting objects:  22% (8/36)\u001b[K\rremote: Counting objects:  25% (9/36)\u001b[K\rremote: Counting objects:  27% (10/36)\u001b[K\rremote: Counting objects:  30% (11/36)\u001b[K\rremote: Counting objects:  33% (12/36)\u001b[K\rremote: Counting objects:  36% (13/36)\u001b[K\rremote: Counting objects:  38% (14/36)\u001b[K\rremote: Counting objects:  41% (15/36)\u001b[K\rremote: Counting objects:  44% (16/36)\u001b[K\rremote: Counting objects:  47% (17/36)\u001b[K\rremote: Counting objects:  50% (18/36)\u001b[K\rremote: Counting objects:  52% (19/36)\u001b[K\rremote: Counting objects:  55% (20/36)\u001b[K\rremote: Counting objects:  58% (21/36)\u001b[K\rremote: Counting objects:  61% (22/36)\u001b[K\rremote: Counting objects:  63% (23/36)\u001b[K\rremote: Counting objects:  66% (24/36)\u001b[K\rremote: Counting objects:  69% (25/36)\u001b[K\rremote: Counting objects:  72% (26/36)\u001b[K\rremote: Counting objects:  75% (27/36)\u001b[K\rremote: Counting objects:  77% (28/36)\u001b[K\rremote: Counting objects:  80% (29/36)\u001b[K\rremote: Counting objects:  83% (30/36)\u001b[K\rremote: Counting objects:  86% (31/36)\u001b[K\rremote: Counting objects:  88% (32/36)\u001b[K\rremote: Counting objects:  91% (33/36)\u001b[K\rremote: Counting objects:  94% (34/36)\u001b[K\rremote: Counting objects:  97% (35/36)\u001b[K\rremote: Counting objects: 100% (36/36)\u001b[K\rremote: Counting objects: 100% (36/36), done.\u001b[K\n",
            "remote: Compressing objects:   3% (1/30)\u001b[K\rremote: Compressing objects:   6% (2/30)\u001b[K\rremote: Compressing objects:  10% (3/30)\u001b[K\rremote: Compressing objects:  13% (4/30)\u001b[K\rremote: Compressing objects:  16% (5/30)\u001b[K\rremote: Compressing objects:  20% (6/30)\u001b[K\rremote: Compressing objects:  23% (7/30)\u001b[K\rremote: Compressing objects:  26% (8/30)\u001b[K\rremote: Compressing objects:  30% (9/30)\u001b[K\rremote: Compressing objects:  33% (10/30)\u001b[K\rremote: Compressing objects:  36% (11/30)\u001b[K\rremote: Compressing objects:  40% (12/30)\u001b[K\rremote: Compressing objects:  43% (13/30)\u001b[K\rremote: Compressing objects:  46% (14/30)\u001b[K\rremote: Compressing objects:  50% (15/30)\u001b[K\rremote: Compressing objects:  53% (16/30)\u001b[K\rremote: Compressing objects:  56% (17/30)\u001b[K\rremote: Compressing objects:  60% (18/30)\u001b[K\rremote: Compressing objects:  63% (19/30)\u001b[K\rremote: Compressing objects:  66% (20/30)\u001b[K\rremote: Compressing objects:  70% (21/30)\u001b[K\rremote: Compressing objects:  73% (22/30)\u001b[K\rremote: Compressing objects:  76% (23/30)\u001b[K\rremote: Compressing objects:  80% (24/30)\u001b[K\rremote: Compressing objects:  83% (25/30)\u001b[K\rremote: Compressing objects:  86% (26/30)\u001b[K\rremote: Compressing objects:  90% (27/30)\u001b[K\rremote: Compressing objects:  93% (28/30)\u001b[K\rremote: Compressing objects:  96% (29/30)\u001b[K\rremote: Compressing objects: 100% (30/30)\u001b[K\rremote: Compressing objects: 100% (30/30), done.\u001b[K\n",
            "Receiving objects:   2% (1/36)\rReceiving objects:   5% (2/36)\rReceiving objects:   8% (3/36)\rReceiving objects:  11% (4/36)\rReceiving objects:  13% (5/36)\rReceiving objects:  16% (6/36)\rReceiving objects:  19% (7/36)\rReceiving objects:  22% (8/36)\rReceiving objects:  25% (9/36)\rReceiving objects:  27% (10/36)\rReceiving objects:  30% (11/36)\rReceiving objects:  33% (12/36)\rReceiving objects:  36% (13/36)\rReceiving objects:  38% (14/36)\rReceiving objects:  41% (15/36)\rremote: Total 36 (delta 9), reused 24 (delta 4), pack-reused 0\u001b[K\n",
            "Receiving objects:  44% (16/36)\rReceiving objects:  47% (17/36)\rReceiving objects:  50% (18/36)\rReceiving objects:  52% (19/36)\rReceiving objects:  55% (20/36)\rReceiving objects:  58% (21/36)\rReceiving objects:  61% (22/36)\rReceiving objects:  63% (23/36)\rReceiving objects:  66% (24/36)\rReceiving objects:  69% (25/36)\rReceiving objects:  72% (26/36)\rReceiving objects:  75% (27/36)\rReceiving objects:  77% (28/36)\rReceiving objects:  80% (29/36)\rReceiving objects:  83% (30/36)\rReceiving objects:  86% (31/36)\rReceiving objects:  88% (32/36)\rReceiving objects:  91% (33/36)\rReceiving objects:  94% (34/36)\rReceiving objects:  97% (35/36)\rReceiving objects: 100% (36/36)\rReceiving objects: 100% (36/36), 11.93 KiB | 3.98 MiB/s, done.\n",
            "Resolving deltas:   0% (0/9)\rResolving deltas:  11% (1/9)\rResolving deltas:  22% (2/9)\rResolving deltas:  33% (3/9)\rResolving deltas:  44% (4/9)\rResolving deltas:  55% (5/9)\rResolving deltas:  66% (6/9)\rResolving deltas:  77% (7/9)\rResolving deltas:  88% (8/9)\rResolving deltas: 100% (9/9)\rResolving deltas: 100% (9/9), done.\n",
            "Obtaining file:///content/eth-nlp-f22-hw3/eth-nlp-f22-hw3\n",
            "  Preparing metadata (setup.py) ... \u001b[?25l\u001b[?25hdone\n",
            "Requirement already satisfied: numpy in /usr/local/lib/python3.10/dist-packages (from rayuela==0.1) (1.23.5)\n",
            "Requirement already satisfied: frozendict in /usr/local/lib/python3.10/dist-packages (from rayuela==0.1) (2.4.0)\n",
            "Requirement already satisfied: frozenlist in /usr/local/lib/python3.10/dist-packages (from rayuela==0.1) (1.4.1)\n",
            "Requirement already satisfied: pyconll in /usr/local/lib/python3.10/dist-packages (from rayuela==0.1) (3.2.0)\n",
            "Requirement already satisfied: nltk in /usr/local/lib/python3.10/dist-packages (from rayuela==0.1) (3.8.1)\n",
            "Requirement already satisfied: pytest in /usr/local/lib/python3.10/dist-packages (from rayuela==0.1) (7.4.4)\n",
            "Requirement already satisfied: dill in /usr/local/lib/python3.10/dist-packages (from rayuela==0.1) (0.3.7)\n",
            "Requirement already satisfied: click in /usr/local/lib/python3.10/dist-packages (from nltk->rayuela==0.1) (8.1.7)\n",
            "Requirement already satisfied: joblib in /usr/local/lib/python3.10/dist-packages (from nltk->rayuela==0.1) (1.3.2)\n",
            "Requirement already satisfied: regex>=2021.8.3 in /usr/local/lib/python3.10/dist-packages (from nltk->rayuela==0.1) (2023.6.3)\n",
            "Requirement already satisfied: tqdm in /usr/local/lib/python3.10/dist-packages (from nltk->rayuela==0.1) (4.66.1)\n",
            "Requirement already satisfied: iniconfig in /usr/local/lib/python3.10/dist-packages (from pytest->rayuela==0.1) (2.0.0)\n",
            "Requirement already satisfied: packaging in /usr/local/lib/python3.10/dist-packages (from pytest->rayuela==0.1) (23.2)\n",
            "Requirement already satisfied: pluggy<2.0,>=0.12 in /usr/local/lib/python3.10/dist-packages (from pytest->rayuela==0.1) (1.3.0)\n",
            "Requirement already satisfied: exceptiongroup>=1.0.0rc8 in /usr/local/lib/python3.10/dist-packages (from pytest->rayuela==0.1) (1.2.0)\n",
            "Requirement already satisfied: tomli>=1.0.0 in /usr/local/lib/python3.10/dist-packages (from pytest->rayuela==0.1) (2.0.1)\n",
            "Installing collected packages: rayuela\n",
            "  Attempting uninstall: rayuela\n",
            "    Found existing installation: rayuela 0.1\n",
            "    Uninstalling rayuela-0.1:\n",
            "      Successfully uninstalled rayuela-0.1\n",
            "  Running setup.py develop for rayuela\n",
            "Successfully installed rayuela-0.1\n"
          ]
        }
      ],
      "source": [
        "!git clone https://github.com/butoialexandra/eth-nlp-f22-hw3.git\n",
        "\n",
        "import os\n",
        "os.chdir('eth-nlp-f22-hw3')\n",
        "\n",
        "!pip install -e ."
      ]
    },
    {
      "cell_type": "code",
      "source": [
        "!wget --no-check-certificate 'https://docs.google.com/uc?export=download&id=1wlHbFChZFcBgEU8knAeaUIqE0W4EaJEC' -O 'test_cases.pkl'"
      ],
      "metadata": {
        "id": "-4p3GQ0u2iX4",
        "colab": {
          "base_uri": "https://localhost:8080/"
        },
        "outputId": "e286e0b0-e4e4-444f-ee5e-fa0b9b3210d1"
      },
      "execution_count": null,
      "outputs": [
        {
          "output_type": "stream",
          "name": "stdout",
          "text": [
            "--2024-01-14 22:52:22--  https://docs.google.com/uc?export=download&id=1wlHbFChZFcBgEU8knAeaUIqE0W4EaJEC\n",
            "Resolving docs.google.com (docs.google.com)... 142.250.31.102, 142.250.31.113, 142.250.31.139, ...\n",
            "Connecting to docs.google.com (docs.google.com)|142.250.31.102|:443... connected.\n",
            "HTTP request sent, awaiting response... 303 See Other\n",
            "Location: https://drive.usercontent.google.com/download?id=1wlHbFChZFcBgEU8knAeaUIqE0W4EaJEC&export=download [following]\n",
            "--2024-01-14 22:52:22--  https://drive.usercontent.google.com/download?id=1wlHbFChZFcBgEU8knAeaUIqE0W4EaJEC&export=download\n",
            "Resolving drive.usercontent.google.com (drive.usercontent.google.com)... 142.251.167.132, 2607:f8b0:4004:c1d::84\n",
            "Connecting to drive.usercontent.google.com (drive.usercontent.google.com)|142.251.167.132|:443... connected.\n",
            "HTTP request sent, awaiting response... 200 OK\n",
            "Length: 43862 (43K) [application/octet-stream]\n",
            "Saving to: ‘test_cases.pkl’\n",
            "\n",
            "test_cases.pkl      100%[===================>]  42.83K  --.-KB/s    in 0.002s  \n",
            "\n",
            "2024-01-14 22:52:22 (23.6 MB/s) - ‘test_cases.pkl’ saved [43862/43862]\n",
            "\n"
          ]
        }
      ]
    },
    {
      "cell_type": "code",
      "source": [
        "from rayuela.base.semiring import Semiring, Real, Tropical\n",
        "from rayuela.base.symbol import Sym, ε, ε_1, ε_2\n",
        "from rayuela.fsa.fsa_classes import get_epsilon_filter\n",
        "\n",
        "from rayuela.fsa.fst import FST\n",
        "from rayuela.fsa.state import State, PairState\n",
        "\n",
        "import dill\n",
        "import numpy as np\n",
        "from math import exp, log\n",
        "\n",
        "from itertools import product\n",
        "\n",
        "from frozendict import frozendict"
      ],
      "metadata": {
        "id": "hsr_q831W8rN"
      },
      "execution_count": null,
      "outputs": []
    },
    {
      "cell_type": "markdown",
      "source": [
        "### Subquestion a) - Log Semiring"
      ],
      "metadata": {
        "id": "wFL0YgNBYCf7"
      }
    },
    {
      "cell_type": "code",
      "source": [
        "class Log(Semiring):\n",
        "    def __init__(self, score):\n",
        "        self.score = score\n",
        "\n",
        "    def star(self):\n",
        "        # TODO: implement Kleene star\n",
        "        if self.score >= 0:\n",
        "            return Log(np.inf)\n",
        "        else:\n",
        "            return Log(- np.log(1 - np.exp(self.score)))\n",
        "\n",
        "    def __float__(self):\n",
        "        return float(self.score)\n",
        "\n",
        "    def __add__(self, other):\n",
        "        # TODO: implement log addition\n",
        "        # For numerical stability you should use the using the log-sum-exp trick\n",
        "        # https://en.wikipedia.org/wiki/LogSumExp\n",
        "        return Log(np.logaddexp(self.score, other.score))\n",
        "\n",
        "    def __mul__(self, other):\n",
        "        # TODO: implement log multiplication\n",
        "        return Log(self.score + other.score)\n",
        "\n",
        "    def __repr__(self):\n",
        "        return f\"{round(self.score, 15)}\"\n",
        "\n",
        "    def __eq__(self, other):\n",
        "        return np.allclose(float(self.score), float(other.score), atol=1e-3)\n",
        "\n",
        "    def __hash__(self):\n",
        "        return hash(self.score)\n",
        "\n",
        "# TODO: implement the log semiring one and zero\n",
        "Log.zero = Log(- np.inf)\n",
        "Log.one = Log(0)\n",
        "\n",
        "\n",
        "Log.idempotent = False\n",
        "Log.cancellative = True"
      ],
      "metadata": {
        "id": "ny9YFmJ8avns"
      },
      "execution_count": null,
      "outputs": []
    },
    {
      "cell_type": "markdown",
      "source": [
        "### Before moving to the next subquestion, we give some examples of WFSTs to illustrate how to use the library `rayuela`."
      ],
      "metadata": {
        "id": "LH8LNXZpoCX6"
      }
    },
    {
      "cell_type": "code",
      "source": [
        "# A simple language model encoded by a WFST\n",
        "\n",
        "sem = Real # the Real semiring\n",
        "fst = FST(sem) # a WFST in the Real semiring\n",
        "\n",
        "# add transitions\n",
        "fst.add_arc(State(0), Sym('formal'), Sym('formal'), State(1), Real(0.2))\n",
        "fst.add_arc(State(0), Sym('natural'), Sym('natural'), State(1), Real(0.3))\n",
        "fst.add_arc(State(0), Sym('learning'), Sym('learning'), State(2), Real(0.2))\n",
        "fst.add_arc(State(0), Sym('data'), Sym('data'), State(3), Real(0.3))\n",
        "\n",
        "fst.add_arc(State(1), Sym('language'), Sym('language'), State(2), Real(0.6))\n",
        "fst.add_arc(State(1), Sym('languages'), Sym('languages'), State(4), Real(0.4))\n",
        "\n",
        "fst.add_arc(State(2), Sym('is'), Sym('is'), State(5), Real(1.0))\n",
        "\n",
        "fst.add_arc(State(5), Sym('fun'), Sym('fun'), State(6), Real(1.0))\n",
        "\n",
        "fst.add_arc(State(3), Sym('is'), Sym('is'), State(5), Real(0.5))\n",
        "fst.add_arc(State(3), Sym('are'), Sym('are'), State(5), Real(0.5))\n",
        "\n",
        "fst.add_arc(State(4), Sym('are'), Sym('are'), State(5), Real(1.0))\n",
        "\n",
        "# set initial weights\n",
        "# if not set, it defaults to semiring zero\n",
        "fst.set_I(State(0), Real(1.0))\n",
        "# set final weights\n",
        "fst.set_F(State(6), Real(1.0))\n",
        "\n",
        "# visualize\n",
        "fst"
      ],
      "metadata": {
        "id": "RJzHo7imoDb9",
        "colab": {
          "base_uri": "https://localhost:8080/",
          "height": 262
        },
        "outputId": "5a76ab69-eed1-4c9b-93b7-29473751973d"
      },
      "execution_count": null,
      "outputs": [
        {
          "output_type": "execute_result",
          "data": {
            "text/plain": [
              "WFSA(7 states, <class 'rayuela.base.semiring.Real'>)"
            ],
            "text/html": [
              "\n",
              "\t\t<script>\n",
              "\t\ttry {\n",
              "\t\trequire.config({\n",
              "\t\tpaths: {\n",
              "\t\t\"d3\": \"https://cdnjs.cloudflare.com/ajax/libs/d3/4.13.0/d3\",\n",
              "\t\t\"dagreD3\": \"https://cdnjs.cloudflare.com/ajax/libs/dagre-d3/0.6.1/dagre-d3.min\"\n",
              "\t\t}\n",
              "\t\t});\n",
              "\t\t} catch {\n",
              "\t\t  [\"https://cdnjs.cloudflare.com/ajax/libs/d3/4.13.0/d3.js\",\n",
              "\t\t   \"https://cdnjs.cloudflare.com/ajax/libs/dagre-d3/0.6.1/dagre-d3.min.js\"].forEach(function (src) {\n",
              "\t\t\tvar tag = document.createElement('script');\n",
              "\t\t\ttag.src = src;\n",
              "\t\t\tdocument.body.appendChild(tag);\n",
              "\t\t  })\n",
              "\t\t}\n",
              "\t\ttry {\n",
              "\t\trequirejs(['d3', 'dagreD3'], function() {});\n",
              "\t\t} catch (e) {}\n",
              "\t\ttry {\n",
              "\t\trequire(['d3', 'dagreD3'], function() {});\n",
              "\t\t} catch (e) {}\n",
              "\t\t</script>\n",
              "\t\t<style>\n",
              "\t\t.node rect,\n",
              "\t\t.node circle,\n",
              "\t\t.node ellipse {\n",
              "\t\tstroke: #333;\n",
              "\t\tfill: #fff;\n",
              "\t\tstroke-width: 1px;\n",
              "\t\t}\n",
              "\n",
              "\t\t.edgePath path {\n",
              "\t\tstroke: #333;\n",
              "\t\tfill: #333;\n",
              "\t\tstroke-width: 1.5px;\n",
              "\t\t}\n",
              "\t\t</style>\n",
              "\t\t<center><svg width=\"850\" height=\"600\" id=\"fst_7938219dc3c4427384dc63ccb55d0fe7\"><g/></svg></center>\n",
              "\t\t<script>\n",
              "\t\t(function render_d3() {\n",
              "\t\tvar d3, dagreD3;\n",
              "\t\ttry { // requirejs is broken on external domains\n",
              "\t\t  d3 = require('d3');\n",
              "\t\t  dagreD3 = require('dagreD3');\n",
              "\t\t} catch (e) {\n",
              "\t\t  // for google colab\n",
              "\t\t  if(typeof window.d3 !== \"undefined\" && typeof window.dagreD3 !== \"undefined\") {\n",
              "\t\t\td3 = window.d3;\n",
              "\t\t\tdagreD3 = window.dagreD3;\n",
              "\t\t  } else { // not loaded yet, so wait and try again\n",
              "\t\t\tsetTimeout(render_d3, 50);\n",
              "\t\t\treturn;\n",
              "\t\t  }\n",
              "\t\t}\n",
              "\t\t//alert(\"loaded\");\n",
              "\t\tvar g = new dagreD3.graphlib.Graph().setGraph({ 'rankdir': 'LR' });\n",
              "\t\tg.setNode(\"0\", { label: \"0 / 1.0\" , shape: \"circle\" });\n",
              "g.node(\"0\").style = \"fill: #66c2a5\"; \n",
              "g.setNode(\"1\", { label: \"1\" , shape: \"circle\" });\n",
              "g.node(\"1\").style = \"fill: #8da0cb\"; \n",
              "g.setNode(\"2\", { label: \"2\" , shape: \"circle\" });\n",
              "g.node(\"2\").style = \"fill: #8da0cb\"; \n",
              "g.setNode(\"3\", { label: \"3\" , shape: \"circle\" });\n",
              "g.node(\"3\").style = \"fill: #8da0cb\"; \n",
              "g.setNode(\"4\", { label: \"4\" , shape: \"circle\" });\n",
              "g.node(\"4\").style = \"fill: #8da0cb\"; \n",
              "g.setNode(\"5\", { label: \"5\" , shape: \"circle\" });\n",
              "g.node(\"5\").style = \"fill: #8da0cb\"; \n",
              "g.setNode(\"6\", { label: \"6 / 1.0\" , shape: \"circle\" });\n",
              "g.node(\"6\").style = \"fill: #fc8d62\"; \n",
              "g.setEdge(\"0\", \"1\", { arrowhead: \"vee\", label: \"(formal, formal) / 0.2\\n(natural, natural) / 0.3\" });\n",
              "g.setEdge(\"0\", \"2\", { arrowhead: \"vee\", label: \"(learning, learning) / 0.2\" });\n",
              "g.setEdge(\"0\", \"3\", { arrowhead: \"vee\", label: \"(data, data) / 0.3\" });\n",
              "g.setEdge(\"1\", \"2\", { arrowhead: \"vee\", label: \"(language, language) / 0.6\" });\n",
              "g.setEdge(\"1\", \"4\", { arrowhead: \"vee\", label: \"(languages, languages) / 0.4\" });\n",
              "g.setEdge(\"2\", \"5\", { arrowhead: \"vee\", label: \"(is, is) / 1.0\" });\n",
              "g.setEdge(\"3\", \"5\", { arrowhead: \"vee\", label: \"(is, is) / 0.5\\n(are, are) / 0.5\" });\n",
              "g.setEdge(\"4\", \"5\", { arrowhead: \"vee\", label: \"(are, are) / 1.0\" });\n",
              "g.setEdge(\"5\", \"6\", { arrowhead: \"vee\", label: \"(fun, fun) / 1.0\" });\n",
              "var svg = d3.select(\"#fst_7938219dc3c4427384dc63ccb55d0fe7\"); \n",
              "\n",
              "\t\tvar inner = svg.select(\"g\");\n",
              "\n",
              "\t\t// Set up zoom support\n",
              "\t\tvar zoom = d3.zoom().scaleExtent([0.3, 5]).on(\"zoom\", function() {\n",
              "\t\tinner.attr(\"transform\", d3.event.transform);\n",
              "\t\t});\n",
              "\t\tsvg.call(zoom);\n",
              "\n",
              "\t\t// Create the renderer\n",
              "\t\tvar render = new dagreD3.render();\n",
              "\n",
              "\t\t// Run the renderer. This is what draws the final graph.\n",
              "\t\trender(inner, g);\n",
              "\n",
              "\t\t// Center the graph\n",
              "\t\tvar initialScale = 0.75;\n",
              "\t\tsvg.call(zoom.transform, d3.zoomIdentity.translate(\n",
              "\t\t    (svg.attr(\"width\") - g.graph().width * initialScale) / 2, 20).scale(initialScale));\n",
              "\n",
              "\t\tsvg.attr('height', g.graph().height * initialScale + 50);\n",
              "\t\t})();\n",
              "\n",
              "\t\t</script>\n",
              "\t\t"
            ]
          },
          "metadata": {},
          "execution_count": 36
        }
      ]
    },
    {
      "cell_type": "code",
      "source": [
        "# A simple WFSA for transliteration\n",
        "\n",
        "sem = Real # semiring\n",
        "fst = FST(sem) # initialize WFST in the chosen semiring\n",
        "one, zero = sem.one, sem.zero # semiring one and zero\n",
        "\n",
        "# add transitions\n",
        "fst.add_arc(State(0), Sym('d'), Sym('data'), State(1), Real(0.5))\n",
        "fst.add_arc(State(0), Sym('d'), Sym('dew'), State(5), Real(0.5))\n",
        "\n",
        "fst.add_arc(State(1), Sym('ey'), Sym('ÃŽÂµ'), State(2), Real(0.5))\n",
        "fst.add_arc(State(1), Sym('ae'), Sym('ÃŽÂµ'), State(2), Real(0.5))\n",
        "\n",
        "fst.add_arc(State(2), Sym('t'), Sym('ÃŽÂµ'), State(3), Real(0.7))\n",
        "fst.add_arc(State(2), Sym('dx'), Sym('ÃŽÂµ'), State(3), Real(0.3))\n",
        "\n",
        "fst.add_arc(State(3), Sym('ax'), Sym('ÃŽÂµ'), State(4), one)\n",
        "\n",
        "fst.add_arc(State(5), Sym('uw'), Sym('ÃŽÂµ'), State(6), one)\n",
        "\n",
        "# initial and final weights\n",
        "fst.set_I(State(0), one)\n",
        "fst.set_F(State(4), one)\n",
        "fst.set_F(State(6), one)\n",
        "\n",
        "fst"
      ],
      "metadata": {
        "id": "6FpH94cRoGai",
        "colab": {
          "base_uri": "https://localhost:8080/",
          "height": 189
        },
        "outputId": "23a67a4b-78a2-4520-b810-59be2b8ce1ab"
      },
      "execution_count": null,
      "outputs": [
        {
          "output_type": "execute_result",
          "data": {
            "text/plain": [
              "WFSA(7 states, <class 'rayuela.base.semiring.Real'>)"
            ],
            "text/html": [
              "\n",
              "\t\t<script>\n",
              "\t\ttry {\n",
              "\t\trequire.config({\n",
              "\t\tpaths: {\n",
              "\t\t\"d3\": \"https://cdnjs.cloudflare.com/ajax/libs/d3/4.13.0/d3\",\n",
              "\t\t\"dagreD3\": \"https://cdnjs.cloudflare.com/ajax/libs/dagre-d3/0.6.1/dagre-d3.min\"\n",
              "\t\t}\n",
              "\t\t});\n",
              "\t\t} catch {\n",
              "\t\t  [\"https://cdnjs.cloudflare.com/ajax/libs/d3/4.13.0/d3.js\",\n",
              "\t\t   \"https://cdnjs.cloudflare.com/ajax/libs/dagre-d3/0.6.1/dagre-d3.min.js\"].forEach(function (src) {\n",
              "\t\t\tvar tag = document.createElement('script');\n",
              "\t\t\ttag.src = src;\n",
              "\t\t\tdocument.body.appendChild(tag);\n",
              "\t\t  })\n",
              "\t\t}\n",
              "\t\ttry {\n",
              "\t\trequirejs(['d3', 'dagreD3'], function() {});\n",
              "\t\t} catch (e) {}\n",
              "\t\ttry {\n",
              "\t\trequire(['d3', 'dagreD3'], function() {});\n",
              "\t\t} catch (e) {}\n",
              "\t\t</script>\n",
              "\t\t<style>\n",
              "\t\t.node rect,\n",
              "\t\t.node circle,\n",
              "\t\t.node ellipse {\n",
              "\t\tstroke: #333;\n",
              "\t\tfill: #fff;\n",
              "\t\tstroke-width: 1px;\n",
              "\t\t}\n",
              "\n",
              "\t\t.edgePath path {\n",
              "\t\tstroke: #333;\n",
              "\t\tfill: #333;\n",
              "\t\tstroke-width: 1.5px;\n",
              "\t\t}\n",
              "\t\t</style>\n",
              "\t\t<center><svg width=\"850\" height=\"600\" id=\"fst_ef0fa7488a9c4254887985d1d455188c\"><g/></svg></center>\n",
              "\t\t<script>\n",
              "\t\t(function render_d3() {\n",
              "\t\tvar d3, dagreD3;\n",
              "\t\ttry { // requirejs is broken on external domains\n",
              "\t\t  d3 = require('d3');\n",
              "\t\t  dagreD3 = require('dagreD3');\n",
              "\t\t} catch (e) {\n",
              "\t\t  // for google colab\n",
              "\t\t  if(typeof window.d3 !== \"undefined\" && typeof window.dagreD3 !== \"undefined\") {\n",
              "\t\t\td3 = window.d3;\n",
              "\t\t\tdagreD3 = window.dagreD3;\n",
              "\t\t  } else { // not loaded yet, so wait and try again\n",
              "\t\t\tsetTimeout(render_d3, 50);\n",
              "\t\t\treturn;\n",
              "\t\t  }\n",
              "\t\t}\n",
              "\t\t//alert(\"loaded\");\n",
              "\t\tvar g = new dagreD3.graphlib.Graph().setGraph({ 'rankdir': 'LR' });\n",
              "\t\tg.setNode(\"0\", { label: \"0 / 1.0\" , shape: \"circle\" });\n",
              "g.node(\"0\").style = \"fill: #66c2a5\"; \n",
              "g.setNode(\"1\", { label: \"1\" , shape: \"circle\" });\n",
              "g.node(\"1\").style = \"fill: #8da0cb\"; \n",
              "g.setNode(\"2\", { label: \"2\" , shape: \"circle\" });\n",
              "g.node(\"2\").style = \"fill: #8da0cb\"; \n",
              "g.setNode(\"3\", { label: \"3\" , shape: \"circle\" });\n",
              "g.node(\"3\").style = \"fill: #8da0cb\"; \n",
              "g.setNode(\"5\", { label: \"5\" , shape: \"circle\" });\n",
              "g.node(\"5\").style = \"fill: #8da0cb\"; \n",
              "g.setNode(\"4\", { label: \"4 / 1.0\" , shape: \"circle\" });\n",
              "g.node(\"4\").style = \"fill: #fc8d62\"; \n",
              "g.setNode(\"6\", { label: \"6 / 1.0\" , shape: \"circle\" });\n",
              "g.node(\"6\").style = \"fill: #fc8d62\"; \n",
              "g.setEdge(\"0\", \"1\", { arrowhead: \"vee\", label: \"(d, data) / 0.5\" });\n",
              "g.setEdge(\"0\", \"5\", { arrowhead: \"vee\", label: \"(d, dew) / 0.5\" });\n",
              "g.setEdge(\"1\", \"2\", { arrowhead: \"vee\", label: \"(ey, \\u00c3\\u017d\\u00c2\\u00b5) / 0.5\\n(ae, \\u00c3\\u017d\\u00c2\\u00b5) / 0.5\" });\n",
              "g.setEdge(\"2\", \"3\", { arrowhead: \"vee\", label: \"(t, \\u00c3\\u017d\\u00c2\\u00b5) / 0.7\\n(dx, \\u00c3\\u017d\\u00c2\\u00b5) / 0.3\" });\n",
              "g.setEdge(\"3\", \"4\", { arrowhead: \"vee\", label: \"(ax, \\u00c3\\u017d\\u00c2\\u00b5) / 1.0\" });\n",
              "g.setEdge(\"5\", \"6\", { arrowhead: \"vee\", label: \"(uw, \\u00c3\\u017d\\u00c2\\u00b5) / 1.0\" });\n",
              "var svg = d3.select(\"#fst_ef0fa7488a9c4254887985d1d455188c\"); \n",
              "\n",
              "\t\tvar inner = svg.select(\"g\");\n",
              "\n",
              "\t\t// Set up zoom support\n",
              "\t\tvar zoom = d3.zoom().scaleExtent([0.3, 5]).on(\"zoom\", function() {\n",
              "\t\tinner.attr(\"transform\", d3.event.transform);\n",
              "\t\t});\n",
              "\t\tsvg.call(zoom);\n",
              "\n",
              "\t\t// Create the renderer\n",
              "\t\tvar render = new dagreD3.render();\n",
              "\n",
              "\t\t// Run the renderer. This is what draws the final graph.\n",
              "\t\trender(inner, g);\n",
              "\n",
              "\t\t// Center the graph\n",
              "\t\tvar initialScale = 0.75;\n",
              "\t\tsvg.call(zoom.transform, d3.zoomIdentity.translate(\n",
              "\t\t    (svg.attr(\"width\") - g.graph().width * initialScale) / 2, 20).scale(initialScale));\n",
              "\n",
              "\t\tsvg.attr('height', g.graph().height * initialScale + 50);\n",
              "\t\t})();\n",
              "\n",
              "\t\t</script>\n",
              "\t\t"
            ]
          },
          "metadata": {},
          "execution_count": 37
        }
      ]
    },
    {
      "cell_type": "markdown",
      "source": [
        "### Subquestion b) - String Transducer"
      ],
      "metadata": {
        "id": "9pioLluSYjJK"
      }
    },
    {
      "cell_type": "code",
      "source": [
        "weight = - np.exp(4)"
      ],
      "metadata": {
        "id": "k-eXO_Vfcr1T"
      },
      "execution_count": null,
      "outputs": []
    },
    {
      "cell_type": "code",
      "source": [
        "def string_fst(s, semiring=Log):\n",
        "    \"\"\" Takes a string as input and a semiring\n",
        "    and returns a transducer encoding of the\n",
        "    string\n",
        "    \"\"\"\n",
        "    fst = FST(semiring)\n",
        "    one, zero = semiring.one, semiring.zero\n",
        "\n",
        "    # TODO: add arcs, initial and final weights\n",
        "\n",
        "    for idx, symbol in enumerate(s):\n",
        "        fst.add_arc(State(idx), symbol, symbol, State(idx + 1), semiring(weight))\n",
        "\n",
        "    fst.set_I(State(0), one)\n",
        "    fst.set_F(State(len(s)), one)\n",
        "\n",
        "    return fst"
      ],
      "metadata": {
        "id": "bncEcn9mbiS9"
      },
      "execution_count": null,
      "outputs": []
    },
    {
      "cell_type": "code",
      "source": [
        "# you can visualise the transducer\n",
        "fst = string_fst(\"abc\", semiring=Real)\n",
        "fst"
      ],
      "metadata": {
        "id": "xogIlSbTeuoU",
        "colab": {
          "base_uri": "https://localhost:8080/",
          "height": 116
        },
        "outputId": "da7aa6e1-f87c-4db9-d55e-e27c2085370a"
      },
      "execution_count": null,
      "outputs": [
        {
          "output_type": "execute_result",
          "data": {
            "text/plain": [
              "WFSA(4 states, <class 'rayuela.base.semiring.Real'>)"
            ],
            "text/html": [
              "\n",
              "\t\t<script>\n",
              "\t\ttry {\n",
              "\t\trequire.config({\n",
              "\t\tpaths: {\n",
              "\t\t\"d3\": \"https://cdnjs.cloudflare.com/ajax/libs/d3/4.13.0/d3\",\n",
              "\t\t\"dagreD3\": \"https://cdnjs.cloudflare.com/ajax/libs/dagre-d3/0.6.1/dagre-d3.min\"\n",
              "\t\t}\n",
              "\t\t});\n",
              "\t\t} catch {\n",
              "\t\t  [\"https://cdnjs.cloudflare.com/ajax/libs/d3/4.13.0/d3.js\",\n",
              "\t\t   \"https://cdnjs.cloudflare.com/ajax/libs/dagre-d3/0.6.1/dagre-d3.min.js\"].forEach(function (src) {\n",
              "\t\t\tvar tag = document.createElement('script');\n",
              "\t\t\ttag.src = src;\n",
              "\t\t\tdocument.body.appendChild(tag);\n",
              "\t\t  })\n",
              "\t\t}\n",
              "\t\ttry {\n",
              "\t\trequirejs(['d3', 'dagreD3'], function() {});\n",
              "\t\t} catch (e) {}\n",
              "\t\ttry {\n",
              "\t\trequire(['d3', 'dagreD3'], function() {});\n",
              "\t\t} catch (e) {}\n",
              "\t\t</script>\n",
              "\t\t<style>\n",
              "\t\t.node rect,\n",
              "\t\t.node circle,\n",
              "\t\t.node ellipse {\n",
              "\t\tstroke: #333;\n",
              "\t\tfill: #fff;\n",
              "\t\tstroke-width: 1px;\n",
              "\t\t}\n",
              "\n",
              "\t\t.edgePath path {\n",
              "\t\tstroke: #333;\n",
              "\t\tfill: #333;\n",
              "\t\tstroke-width: 1.5px;\n",
              "\t\t}\n",
              "\t\t</style>\n",
              "\t\t<center><svg width=\"850\" height=\"600\" id=\"fst_ce1ab3667a3d45a0bc6b10a4c5397054\"><g/></svg></center>\n",
              "\t\t<script>\n",
              "\t\t(function render_d3() {\n",
              "\t\tvar d3, dagreD3;\n",
              "\t\ttry { // requirejs is broken on external domains\n",
              "\t\t  d3 = require('d3');\n",
              "\t\t  dagreD3 = require('dagreD3');\n",
              "\t\t} catch (e) {\n",
              "\t\t  // for google colab\n",
              "\t\t  if(typeof window.d3 !== \"undefined\" && typeof window.dagreD3 !== \"undefined\") {\n",
              "\t\t\td3 = window.d3;\n",
              "\t\t\tdagreD3 = window.dagreD3;\n",
              "\t\t  } else { // not loaded yet, so wait and try again\n",
              "\t\t\tsetTimeout(render_d3, 50);\n",
              "\t\t\treturn;\n",
              "\t\t  }\n",
              "\t\t}\n",
              "\t\t//alert(\"loaded\");\n",
              "\t\tvar g = new dagreD3.graphlib.Graph().setGraph({ 'rankdir': 'LR' });\n",
              "\t\tg.setNode(\"0\", { label: \"0 / 1.0\" , shape: \"circle\" });\n",
              "g.node(\"0\").style = \"fill: #66c2a5\"; \n",
              "g.setNode(\"1\", { label: \"1\" , shape: \"circle\" });\n",
              "g.node(\"1\").style = \"fill: #8da0cb\"; \n",
              "g.setNode(\"2\", { label: \"2\" , shape: \"circle\" });\n",
              "g.node(\"2\").style = \"fill: #8da0cb\"; \n",
              "g.setNode(\"3\", { label: \"3 / 1.0\" , shape: \"circle\" });\n",
              "g.node(\"3\").style = \"fill: #fc8d62\"; \n",
              "g.setEdge(\"0\", \"1\", { arrowhead: \"vee\", label: \"(a, a) / -54.59815003314424\" });\n",
              "g.setEdge(\"1\", \"2\", { arrowhead: \"vee\", label: \"(b, b) / -54.59815003314424\" });\n",
              "g.setEdge(\"2\", \"3\", { arrowhead: \"vee\", label: \"(c, c) / -54.59815003314424\" });\n",
              "var svg = d3.select(\"#fst_ce1ab3667a3d45a0bc6b10a4c5397054\"); \n",
              "\n",
              "\t\tvar inner = svg.select(\"g\");\n",
              "\n",
              "\t\t// Set up zoom support\n",
              "\t\tvar zoom = d3.zoom().scaleExtent([0.3, 5]).on(\"zoom\", function() {\n",
              "\t\tinner.attr(\"transform\", d3.event.transform);\n",
              "\t\t});\n",
              "\t\tsvg.call(zoom);\n",
              "\n",
              "\t\t// Create the renderer\n",
              "\t\tvar render = new dagreD3.render();\n",
              "\n",
              "\t\t// Run the renderer. This is what draws the final graph.\n",
              "\t\trender(inner, g);\n",
              "\n",
              "\t\t// Center the graph\n",
              "\t\tvar initialScale = 0.75;\n",
              "\t\tsvg.call(zoom.transform, d3.zoomIdentity.translate(\n",
              "\t\t    (svg.attr(\"width\") - g.graph().width * initialScale) / 2, 20).scale(initialScale));\n",
              "\n",
              "\t\tsvg.attr('height', g.graph().height * initialScale + 50);\n",
              "\t\t})();\n",
              "\n",
              "\t\t</script>\n",
              "\t\t"
            ]
          },
          "metadata": {},
          "execution_count": 40
        }
      ]
    },
    {
      "cell_type": "markdown",
      "source": [
        "### Subquestion c) - Edit Distance Transducer"
      ],
      "metadata": {
        "id": "We9mAj-SYrz3"
      }
    },
    {
      "cell_type": "markdown",
      "source": [
        "As we will not learn the weights on the arcs, you can set them to some pre-defined constants. You should choose the weights such that the pathsum that needs to be computed in e) does not diverge (this is caused by the weights of the self-loops in the transducer)."
      ],
      "metadata": {
        "id": "23AP7EiJrJ2B"
      }
    },
    {
      "cell_type": "code",
      "source": [
        "def edit_distance_fst(source_alphabet, target_alphabet, semiring=Log):\n",
        "    \"\"\" Takes as input two sets of characters (source and target\n",
        "    alphabets) and a semiring and returns an edit-distance transducer\n",
        "    \"\"\"\n",
        "\n",
        "    fst = FST(semiring)\n",
        "    one, zero = semiring.one, semiring.zero\n",
        "\n",
        "    # TODO: add arcs, initial and final weights\n",
        "    for idx_1, symbol_1 in enumerate(target_alphabet):\n",
        "        for symbol_2 in source_alphabet.union({ε}):\n",
        "            for idx_2 in range(len(target_alphabet)):\n",
        "                fst.add_arc(State(idx_2), symbol_2, symbol_1, State(idx_1), semiring(weight))\n",
        "\n",
        "    for idx in range(len(target_alphabet)):\n",
        "        fst.set_I(State(idx), one)\n",
        "        fst.set_F(State(idx), one)\n",
        "\n",
        "    return fst"
      ],
      "metadata": {
        "id": "TG1G9JdUfEK_"
      },
      "execution_count": null,
      "outputs": []
    },
    {
      "cell_type": "code",
      "source": [
        "fst = edit_distance_fst({'a', 'b', 'c'}, {'d', 'e'}, semiring=Real)\n",
        "fst"
      ],
      "metadata": {
        "id": "eB2rZ_7xhB8o",
        "colab": {
          "base_uri": "https://localhost:8080/",
          "height": 330
        },
        "outputId": "2164bc3a-cb30-4053-95bd-f0b8854cfbeb"
      },
      "execution_count": null,
      "outputs": [
        {
          "output_type": "execute_result",
          "data": {
            "text/plain": [
              "WFSA(2 states, <class 'rayuela.base.semiring.Real'>)"
            ],
            "text/html": [
              "\n",
              "\t\t<script>\n",
              "\t\ttry {\n",
              "\t\trequire.config({\n",
              "\t\tpaths: {\n",
              "\t\t\"d3\": \"https://cdnjs.cloudflare.com/ajax/libs/d3/4.13.0/d3\",\n",
              "\t\t\"dagreD3\": \"https://cdnjs.cloudflare.com/ajax/libs/dagre-d3/0.6.1/dagre-d3.min\"\n",
              "\t\t}\n",
              "\t\t});\n",
              "\t\t} catch {\n",
              "\t\t  [\"https://cdnjs.cloudflare.com/ajax/libs/d3/4.13.0/d3.js\",\n",
              "\t\t   \"https://cdnjs.cloudflare.com/ajax/libs/dagre-d3/0.6.1/dagre-d3.min.js\"].forEach(function (src) {\n",
              "\t\t\tvar tag = document.createElement('script');\n",
              "\t\t\ttag.src = src;\n",
              "\t\t\tdocument.body.appendChild(tag);\n",
              "\t\t  })\n",
              "\t\t}\n",
              "\t\ttry {\n",
              "\t\trequirejs(['d3', 'dagreD3'], function() {});\n",
              "\t\t} catch (e) {}\n",
              "\t\ttry {\n",
              "\t\trequire(['d3', 'dagreD3'], function() {});\n",
              "\t\t} catch (e) {}\n",
              "\t\t</script>\n",
              "\t\t<style>\n",
              "\t\t.node rect,\n",
              "\t\t.node circle,\n",
              "\t\t.node ellipse {\n",
              "\t\tstroke: #333;\n",
              "\t\tfill: #fff;\n",
              "\t\tstroke-width: 1px;\n",
              "\t\t}\n",
              "\n",
              "\t\t.edgePath path {\n",
              "\t\tstroke: #333;\n",
              "\t\tfill: #333;\n",
              "\t\tstroke-width: 1.5px;\n",
              "\t\t}\n",
              "\t\t</style>\n",
              "\t\t<center><svg width=\"850\" height=\"600\" id=\"fst_e27e25dc88ce4fb0b499ddc74b24908c\"><g/></svg></center>\n",
              "\t\t<script>\n",
              "\t\t(function render_d3() {\n",
              "\t\tvar d3, dagreD3;\n",
              "\t\ttry { // requirejs is broken on external domains\n",
              "\t\t  d3 = require('d3');\n",
              "\t\t  dagreD3 = require('dagreD3');\n",
              "\t\t} catch (e) {\n",
              "\t\t  // for google colab\n",
              "\t\t  if(typeof window.d3 !== \"undefined\" && typeof window.dagreD3 !== \"undefined\") {\n",
              "\t\t\td3 = window.d3;\n",
              "\t\t\tdagreD3 = window.dagreD3;\n",
              "\t\t  } else { // not loaded yet, so wait and try again\n",
              "\t\t\tsetTimeout(render_d3, 50);\n",
              "\t\t\treturn;\n",
              "\t\t  }\n",
              "\t\t}\n",
              "\t\t//alert(\"loaded\");\n",
              "\t\tvar g = new dagreD3.graphlib.Graph().setGraph({ 'rankdir': 'LR' });\n",
              "\t\tg.setNode(\"0\", { label: \"0 / [1.0 / 1.0]\" , shape: \"circle\" });\n",
              "g.node(\"0\").style = \"fill: #af8dc3\"; \n",
              "g.setNode(\"1\", { label: \"1 / [1.0 / 1.0]\" , shape: \"circle\" });\n",
              "g.node(\"1\").style = \"fill: #af8dc3\"; \n",
              "g.setEdge(\"0\", \"0\", { arrowhead: \"vee\", label: \"(\\u03b5, e) / -54.59815003314424\\n(b, e) / -54.59815003314424\\n(a, e) / -54.59815003314424\\n(c, e) / -54.59815003314424\" });\n",
              "g.setEdge(\"0\", \"1\", { arrowhead: \"vee\", label: \"(\\u03b5, d) / -54.59815003314424\\n(b, d) / -54.59815003314424\\n(a, d) / -54.59815003314424\\n(c, d) / -54.59815003314424\" });\n",
              "g.setEdge(\"1\", \"0\", { arrowhead: \"vee\", label: \"(\\u03b5, e) / -54.59815003314424\\n(b, e) / -54.59815003314424\\n(a, e) / -54.59815003314424\\n(c, e) / -54.59815003314424\" });\n",
              "g.setEdge(\"1\", \"1\", { arrowhead: \"vee\", label: \"(\\u03b5, d) / -54.59815003314424\\n(b, d) / -54.59815003314424\\n(a, d) / -54.59815003314424\\n(c, d) / -54.59815003314424\" });\n",
              "var svg = d3.select(\"#fst_e27e25dc88ce4fb0b499ddc74b24908c\"); \n",
              "\n",
              "\t\tvar inner = svg.select(\"g\");\n",
              "\n",
              "\t\t// Set up zoom support\n",
              "\t\tvar zoom = d3.zoom().scaleExtent([0.3, 5]).on(\"zoom\", function() {\n",
              "\t\tinner.attr(\"transform\", d3.event.transform);\n",
              "\t\t});\n",
              "\t\tsvg.call(zoom);\n",
              "\n",
              "\t\t// Create the renderer\n",
              "\t\tvar render = new dagreD3.render();\n",
              "\n",
              "\t\t// Run the renderer. This is what draws the final graph.\n",
              "\t\trender(inner, g);\n",
              "\n",
              "\t\t// Center the graph\n",
              "\t\tvar initialScale = 0.75;\n",
              "\t\tsvg.call(zoom.transform, d3.zoomIdentity.translate(\n",
              "\t\t    (svg.attr(\"width\") - g.graph().width * initialScale) / 2, 20).scale(initialScale));\n",
              "\n",
              "\t\tsvg.attr('height', g.graph().height * initialScale + 50);\n",
              "\t\t})();\n",
              "\n",
              "\t\t</script>\n",
              "\t\t"
            ]
          },
          "metadata": {},
          "execution_count": 42
        }
      ]
    },
    {
      "cell_type": "markdown",
      "source": [
        "### Subquestion d) - Composition"
      ],
      "metadata": {
        "id": "RCTCHqJLYwyh"
      }
    },
    {
      "cell_type": "markdown",
      "source": [
        "We provide some composition test cases for you to inspect."
      ],
      "metadata": {
        "id": "lzi_UzOx2yLt"
      }
    },
    {
      "cell_type": "code",
      "source": [
        "with open('test_cases.pkl', 'rb') as in_file:\n",
        "    examples = dill.load(in_file)"
      ],
      "metadata": {
        "id": "INUf9u0626E7"
      },
      "execution_count": null,
      "outputs": []
    },
    {
      "cell_type": "code",
      "source": [
        "# FST 1\n",
        "examples[0]['fst1']['fst']"
      ],
      "metadata": {
        "id": "tdDfLbCT3GSL",
        "colab": {
          "base_uri": "https://localhost:8080/",
          "height": 228
        },
        "outputId": "cd6278af-405b-4c87-fec7-292b8afe2b42"
      },
      "execution_count": null,
      "outputs": [
        {
          "output_type": "execute_result",
          "data": {
            "text/plain": [
              "WFSA(2 states, <class 'rayuela.base.semiring.Real'>)"
            ],
            "text/html": [
              "\n",
              "\t\t<script>\n",
              "\t\ttry {\n",
              "\t\trequire.config({\n",
              "\t\tpaths: {\n",
              "\t\t\"d3\": \"https://cdnjs.cloudflare.com/ajax/libs/d3/4.13.0/d3\",\n",
              "\t\t\"dagreD3\": \"https://cdnjs.cloudflare.com/ajax/libs/dagre-d3/0.6.1/dagre-d3.min\"\n",
              "\t\t}\n",
              "\t\t});\n",
              "\t\t} catch {\n",
              "\t\t  [\"https://cdnjs.cloudflare.com/ajax/libs/d3/4.13.0/d3.js\",\n",
              "\t\t   \"https://cdnjs.cloudflare.com/ajax/libs/dagre-d3/0.6.1/dagre-d3.min.js\"].forEach(function (src) {\n",
              "\t\t\tvar tag = document.createElement('script');\n",
              "\t\t\ttag.src = src;\n",
              "\t\t\tdocument.body.appendChild(tag);\n",
              "\t\t  })\n",
              "\t\t}\n",
              "\t\ttry {\n",
              "\t\trequirejs(['d3', 'dagreD3'], function() {});\n",
              "\t\t} catch (e) {}\n",
              "\t\ttry {\n",
              "\t\trequire(['d3', 'dagreD3'], function() {});\n",
              "\t\t} catch (e) {}\n",
              "\t\t</script>\n",
              "\t\t<style>\n",
              "\t\t.node rect,\n",
              "\t\t.node circle,\n",
              "\t\t.node ellipse {\n",
              "\t\tstroke: #333;\n",
              "\t\tfill: #fff;\n",
              "\t\tstroke-width: 1px;\n",
              "\t\t}\n",
              "\n",
              "\t\t.edgePath path {\n",
              "\t\tstroke: #333;\n",
              "\t\tfill: #333;\n",
              "\t\tstroke-width: 1.5px;\n",
              "\t\t}\n",
              "\t\t</style>\n",
              "\t\t<center><svg width=\"850\" height=\"600\" id=\"fst_c65a79cb03ea4887b15566d2787d1938\"><g/></svg></center>\n",
              "\t\t<script>\n",
              "\t\t(function render_d3() {\n",
              "\t\tvar d3, dagreD3;\n",
              "\t\ttry { // requirejs is broken on external domains\n",
              "\t\t  d3 = require('d3');\n",
              "\t\t  dagreD3 = require('dagreD3');\n",
              "\t\t} catch (e) {\n",
              "\t\t  // for google colab\n",
              "\t\t  if(typeof window.d3 !== \"undefined\" && typeof window.dagreD3 !== \"undefined\") {\n",
              "\t\t\td3 = window.d3;\n",
              "\t\t\tdagreD3 = window.dagreD3;\n",
              "\t\t  } else { // not loaded yet, so wait and try again\n",
              "\t\t\tsetTimeout(render_d3, 50);\n",
              "\t\t\treturn;\n",
              "\t\t  }\n",
              "\t\t}\n",
              "\t\t//alert(\"loaded\");\n",
              "\t\tvar g = new dagreD3.graphlib.Graph().setGraph({ 'rankdir': 'LR' });\n",
              "\t\tg.setNode(\"0\", { label: \"0 / 0.049\" , shape: \"circle\" });\n",
              "g.node(\"0\").style = \"fill: #66c2a5\"; \n",
              "g.setNode(\"1\", { label: \"1 / 0.113\" , shape: \"circle\" });\n",
              "g.node(\"1\").style = \"fill: #fc8d62\"; \n",
              "g.setEdge(\"0\", \"1\", { arrowhead: \"vee\", label: \"(a, b) / 0.054\\n(\\u03b5, a) / 0.164\" });\n",
              "g.setEdge(\"1\", \"1\", { arrowhead: \"vee\", label: \"(b, \\u03b5) / 0.092\\n(a, a) / 0.036\" });\n",
              "var svg = d3.select(\"#fst_c65a79cb03ea4887b15566d2787d1938\"); \n",
              "\n",
              "\t\tvar inner = svg.select(\"g\");\n",
              "\n",
              "\t\t// Set up zoom support\n",
              "\t\tvar zoom = d3.zoom().scaleExtent([0.3, 5]).on(\"zoom\", function() {\n",
              "\t\tinner.attr(\"transform\", d3.event.transform);\n",
              "\t\t});\n",
              "\t\tsvg.call(zoom);\n",
              "\n",
              "\t\t// Create the renderer\n",
              "\t\tvar render = new dagreD3.render();\n",
              "\n",
              "\t\t// Run the renderer. This is what draws the final graph.\n",
              "\t\trender(inner, g);\n",
              "\n",
              "\t\t// Center the graph\n",
              "\t\tvar initialScale = 0.75;\n",
              "\t\tsvg.call(zoom.transform, d3.zoomIdentity.translate(\n",
              "\t\t    (svg.attr(\"width\") - g.graph().width * initialScale) / 2, 20).scale(initialScale));\n",
              "\n",
              "\t\tsvg.attr('height', g.graph().height * initialScale + 50);\n",
              "\t\t})();\n",
              "\n",
              "\t\t</script>\n",
              "\t\t"
            ]
          },
          "metadata": {},
          "execution_count": 44
        }
      ]
    },
    {
      "cell_type": "code",
      "source": [
        "# FST 2\n",
        "examples[0]['fst2']['fst']"
      ],
      "metadata": {
        "id": "08ShFifD3Lhm",
        "colab": {
          "base_uri": "https://localhost:8080/",
          "height": 229
        },
        "outputId": "9d5e9be7-5a0e-4655-dd9f-d3e6451c522a"
      },
      "execution_count": null,
      "outputs": [
        {
          "output_type": "execute_result",
          "data": {
            "text/plain": [
              "WFSA(2 states, <class 'rayuela.base.semiring.Real'>)"
            ],
            "text/html": [
              "\n",
              "\t\t<script>\n",
              "\t\ttry {\n",
              "\t\trequire.config({\n",
              "\t\tpaths: {\n",
              "\t\t\"d3\": \"https://cdnjs.cloudflare.com/ajax/libs/d3/4.13.0/d3\",\n",
              "\t\t\"dagreD3\": \"https://cdnjs.cloudflare.com/ajax/libs/dagre-d3/0.6.1/dagre-d3.min\"\n",
              "\t\t}\n",
              "\t\t});\n",
              "\t\t} catch {\n",
              "\t\t  [\"https://cdnjs.cloudflare.com/ajax/libs/d3/4.13.0/d3.js\",\n",
              "\t\t   \"https://cdnjs.cloudflare.com/ajax/libs/dagre-d3/0.6.1/dagre-d3.min.js\"].forEach(function (src) {\n",
              "\t\t\tvar tag = document.createElement('script');\n",
              "\t\t\ttag.src = src;\n",
              "\t\t\tdocument.body.appendChild(tag);\n",
              "\t\t  })\n",
              "\t\t}\n",
              "\t\ttry {\n",
              "\t\trequirejs(['d3', 'dagreD3'], function() {});\n",
              "\t\t} catch (e) {}\n",
              "\t\ttry {\n",
              "\t\trequire(['d3', 'dagreD3'], function() {});\n",
              "\t\t} catch (e) {}\n",
              "\t\t</script>\n",
              "\t\t<style>\n",
              "\t\t.node rect,\n",
              "\t\t.node circle,\n",
              "\t\t.node ellipse {\n",
              "\t\tstroke: #333;\n",
              "\t\tfill: #fff;\n",
              "\t\tstroke-width: 1px;\n",
              "\t\t}\n",
              "\n",
              "\t\t.edgePath path {\n",
              "\t\tstroke: #333;\n",
              "\t\tfill: #333;\n",
              "\t\tstroke-width: 1.5px;\n",
              "\t\t}\n",
              "\t\t</style>\n",
              "\t\t<center><svg width=\"850\" height=\"600\" id=\"fst_973cfed11f9749249ba6968820ac4ae9\"><g/></svg></center>\n",
              "\t\t<script>\n",
              "\t\t(function render_d3() {\n",
              "\t\tvar d3, dagreD3;\n",
              "\t\ttry { // requirejs is broken on external domains\n",
              "\t\t  d3 = require('d3');\n",
              "\t\t  dagreD3 = require('dagreD3');\n",
              "\t\t} catch (e) {\n",
              "\t\t  // for google colab\n",
              "\t\t  if(typeof window.d3 !== \"undefined\" && typeof window.dagreD3 !== \"undefined\") {\n",
              "\t\t\td3 = window.d3;\n",
              "\t\t\tdagreD3 = window.dagreD3;\n",
              "\t\t  } else { // not loaded yet, so wait and try again\n",
              "\t\t\tsetTimeout(render_d3, 50);\n",
              "\t\t\treturn;\n",
              "\t\t  }\n",
              "\t\t}\n",
              "\t\t//alert(\"loaded\");\n",
              "\t\tvar g = new dagreD3.graphlib.Graph().setGraph({ 'rankdir': 'LR' });\n",
              "\t\tg.setNode(\"0\", { label: \"0 / 0.086\" , shape: \"circle\" });\n",
              "g.node(\"0\").style = \"fill: #66c2a5\"; \n",
              "g.setNode(\"1\", { label: \"1 / 0.077\" , shape: \"circle\" });\n",
              "g.node(\"1\").style = \"fill: #fc8d62\"; \n",
              "g.setEdge(\"0\", \"1\", { arrowhead: \"vee\", label: \"(b, a) / 0.032\\n(a, \\u03b5) / 0.096\" });\n",
              "g.setEdge(\"1\", \"1\", { arrowhead: \"vee\", label: \"(b, a) / 0.091\\n(a, a) / 0.059\" });\n",
              "var svg = d3.select(\"#fst_973cfed11f9749249ba6968820ac4ae9\"); \n",
              "\n",
              "\t\tvar inner = svg.select(\"g\");\n",
              "\n",
              "\t\t// Set up zoom support\n",
              "\t\tvar zoom = d3.zoom().scaleExtent([0.3, 5]).on(\"zoom\", function() {\n",
              "\t\tinner.attr(\"transform\", d3.event.transform);\n",
              "\t\t});\n",
              "\t\tsvg.call(zoom);\n",
              "\n",
              "\t\t// Create the renderer\n",
              "\t\tvar render = new dagreD3.render();\n",
              "\n",
              "\t\t// Run the renderer. This is what draws the final graph.\n",
              "\t\trender(inner, g);\n",
              "\n",
              "\t\t// Center the graph\n",
              "\t\tvar initialScale = 0.75;\n",
              "\t\tsvg.call(zoom.transform, d3.zoomIdentity.translate(\n",
              "\t\t    (svg.attr(\"width\") - g.graph().width * initialScale) / 2, 20).scale(initialScale));\n",
              "\n",
              "\t\tsvg.attr('height', g.graph().height * initialScale + 50);\n",
              "\t\t})();\n",
              "\n",
              "\t\t</script>\n",
              "\t\t"
            ]
          },
          "metadata": {},
          "execution_count": 45
        }
      ]
    },
    {
      "cell_type": "code",
      "source": [
        "# composition\n",
        "examples[0]['composition']['fst']"
      ],
      "metadata": {
        "id": "0Ma7QG983NBc",
        "colab": {
          "base_uri": "https://localhost:8080/",
          "height": 307
        },
        "outputId": "a649b0de-81a2-467e-bf7a-6f413f638db0"
      },
      "execution_count": null,
      "outputs": [
        {
          "output_type": "execute_result",
          "data": {
            "text/plain": [
              "WFSA(3 states, <class 'rayuela.base.semiring.Real'>)"
            ],
            "text/html": [
              "\n",
              "\t\t<script>\n",
              "\t\ttry {\n",
              "\t\trequire.config({\n",
              "\t\tpaths: {\n",
              "\t\t\"d3\": \"https://cdnjs.cloudflare.com/ajax/libs/d3/4.13.0/d3\",\n",
              "\t\t\"dagreD3\": \"https://cdnjs.cloudflare.com/ajax/libs/dagre-d3/0.6.1/dagre-d3.min\"\n",
              "\t\t}\n",
              "\t\t});\n",
              "\t\t} catch {\n",
              "\t\t  [\"https://cdnjs.cloudflare.com/ajax/libs/d3/4.13.0/d3.js\",\n",
              "\t\t   \"https://cdnjs.cloudflare.com/ajax/libs/dagre-d3/0.6.1/dagre-d3.min.js\"].forEach(function (src) {\n",
              "\t\t\tvar tag = document.createElement('script');\n",
              "\t\t\ttag.src = src;\n",
              "\t\t\tdocument.body.appendChild(tag);\n",
              "\t\t  })\n",
              "\t\t}\n",
              "\t\ttry {\n",
              "\t\trequirejs(['d3', 'dagreD3'], function() {});\n",
              "\t\t} catch (e) {}\n",
              "\t\ttry {\n",
              "\t\trequire(['d3', 'dagreD3'], function() {});\n",
              "\t\t} catch (e) {}\n",
              "\t\t</script>\n",
              "\t\t<style>\n",
              "\t\t.node rect,\n",
              "\t\t.node circle,\n",
              "\t\t.node ellipse {\n",
              "\t\tstroke: #333;\n",
              "\t\tfill: #fff;\n",
              "\t\tstroke-width: 1px;\n",
              "\t\t}\n",
              "\n",
              "\t\t.edgePath path {\n",
              "\t\tstroke: #333;\n",
              "\t\tfill: #333;\n",
              "\t\tstroke-width: 1.5px;\n",
              "\t\t}\n",
              "\t\t</style>\n",
              "\t\t<center><svg width=\"850\" height=\"600\" id=\"fst_9877b0db57c14fec96e2983cb1081d03\"><g/></svg></center>\n",
              "\t\t<script>\n",
              "\t\t(function render_d3() {\n",
              "\t\tvar d3, dagreD3;\n",
              "\t\ttry { // requirejs is broken on external domains\n",
              "\t\t  d3 = require('d3');\n",
              "\t\t  dagreD3 = require('dagreD3');\n",
              "\t\t} catch (e) {\n",
              "\t\t  // for google colab\n",
              "\t\t  if(typeof window.d3 !== \"undefined\" && typeof window.dagreD3 !== \"undefined\") {\n",
              "\t\t\td3 = window.d3;\n",
              "\t\t\tdagreD3 = window.dagreD3;\n",
              "\t\t  } else { // not loaded yet, so wait and try again\n",
              "\t\t\tsetTimeout(render_d3, 50);\n",
              "\t\t\treturn;\n",
              "\t\t  }\n",
              "\t\t}\n",
              "\t\t//alert(\"loaded\");\n",
              "\t\tvar g = new dagreD3.graphlib.Graph().setGraph({ 'rankdir': 'LR' });\n",
              "\t\tg.setNode(\"( ( 0, 0 ), 0 )\", { label: \"( ( 0, 0 ), 0 ) / 0.004214\" , shape: \"circle\" });\n",
              "g.node(\"( ( 0, 0 ), 0 )\").style = \"fill: #66c2a5\"; \n",
              "g.setNode(\"( ( 1, 0 ), 1 )\", { label: \"( ( 1, 0 ), 1 ) / 0.008701\" , shape: \"circle\" });\n",
              "g.node(\"( ( 1, 0 ), 1 )\").style = \"fill: #fc8d62\"; \n",
              "g.setNode(\"( ( 1, 2 ), 1 )\", { label: \"( ( 1, 2 ), 1 ) / 0.008701\" , shape: \"circle\" });\n",
              "g.node(\"( ( 1, 2 ), 1 )\").style = \"fill: #fc8d62\"; \n",
              "g.setEdge(\"( ( 1, 2 ), 1 )\", \"( ( 1, 2 ), 1 )\", { arrowhead: \"vee\", label: \"(b, \\u03b5) / 0.092\" });\n",
              "g.setEdge(\"( ( 1, 2 ), 1 )\", \"( ( 1, 0 ), 1 )\", { arrowhead: \"vee\", label: \"(a, a) / 0.002124\" });\n",
              "g.setEdge(\"( ( 1, 0 ), 1 )\", \"( ( 1, 2 ), 1 )\", { arrowhead: \"vee\", label: \"(b, \\u03b5) / 0.092\" });\n",
              "g.setEdge(\"( ( 1, 0 ), 1 )\", \"( ( 1, 0 ), 1 )\", { arrowhead: \"vee\", label: \"(a, a) / 0.002124\" });\n",
              "g.setEdge(\"( ( 0, 0 ), 0 )\", \"( ( 1, 0 ), 1 )\", { arrowhead: \"vee\", label: \"(a, a) / 0.001728\\n(\\u03b5, \\u03b5) / 0.015744\" });\n",
              "var svg = d3.select(\"#fst_9877b0db57c14fec96e2983cb1081d03\"); \n",
              "\n",
              "\t\tvar inner = svg.select(\"g\");\n",
              "\n",
              "\t\t// Set up zoom support\n",
              "\t\tvar zoom = d3.zoom().scaleExtent([0.3, 5]).on(\"zoom\", function() {\n",
              "\t\tinner.attr(\"transform\", d3.event.transform);\n",
              "\t\t});\n",
              "\t\tsvg.call(zoom);\n",
              "\n",
              "\t\t// Create the renderer\n",
              "\t\tvar render = new dagreD3.render();\n",
              "\n",
              "\t\t// Run the renderer. This is what draws the final graph.\n",
              "\t\trender(inner, g);\n",
              "\n",
              "\t\t// Center the graph\n",
              "\t\tvar initialScale = 0.75;\n",
              "\t\tsvg.call(zoom.transform, d3.zoomIdentity.translate(\n",
              "\t\t    (svg.attr(\"width\") - g.graph().width * initialScale) / 2, 20).scale(initialScale));\n",
              "\n",
              "\t\tsvg.attr('height', g.graph().height * initialScale + 50);\n",
              "\t\t})();\n",
              "\n",
              "\t\t</script>\n",
              "\t\t"
            ]
          },
          "metadata": {},
          "execution_count": 46
        }
      ]
    },
    {
      "cell_type": "code",
      "source": [
        "# semiring\n",
        "examples[0]['semiring']"
      ],
      "metadata": {
        "id": "A20SmaPN3Ux3",
        "colab": {
          "base_uri": "https://localhost:8080/"
        },
        "outputId": "b2f3789a-f753-4eaf-cd21-1c669c749c94"
      },
      "execution_count": null,
      "outputs": [
        {
          "output_type": "execute_result",
          "data": {
            "text/plain": [
              "rayuela.base.semiring.Real"
            ]
          },
          "metadata": {},
          "execution_count": 47
        }
      ]
    },
    {
      "cell_type": "code",
      "source": [
        "def composition_algorithm(fst1, fst2):\n",
        "    \"\"\"Implementation of the Accessible Composition Algorithm as seen in the lecture\"\"\"\n",
        "\n",
        "    # The machines must be in the same semiring\n",
        "    assert fst1.R == fst2.R\n",
        "\n",
        "    comp_fst = FST(R=fst1.R)\n",
        "\n",
        "    stack = [(q1[0], q2[0]) for q1 in fst1.I for q2 in fst2.I]\n",
        "    visited = set(stack)\n",
        "\n",
        "    while len(stack) > 0:\n",
        "        q1, q2 = stack.pop()\n",
        "\n",
        "        for e1, e2 in product(fst1.arcs(q1), fst2.arcs(q2)):\n",
        "            (a, b), q1_prime, w1 = e1\n",
        "            (c, d), q2_prime, w2 = e2\n",
        "\n",
        "            if b == c:\n",
        "                comp_fst.set_arc(PairState(q1, q2), a, d, PairState(q1_prime, q2_prime), w1 * w2)\n",
        "\n",
        "                if (q1_prime, q2_prime) not in visited:\n",
        "                    visited.add((q1_prime, q2_prime))\n",
        "                    stack.append((q1_prime, q2_prime))\n",
        "\n",
        "    for q in comp_fst.Q:\n",
        "        q1, q2 = q.idx\n",
        "        comp_fst.λ[q] = fst1.λ[q1] * fst2.λ[q2]\n",
        "        comp_fst.ρ[q] = fst1.ρ[q1] * fst2.ρ[q2]\n",
        "\n",
        "\n",
        "    return comp_fst"
      ],
      "metadata": {
        "id": "27nag5DOy7YT"
      },
      "execution_count": null,
      "outputs": []
    },
    {
      "cell_type": "code",
      "source": [
        "def compose(fst1, fst2):\n",
        "    \"\"\" Takes as input two transducers and returns\n",
        "    their composition\n",
        "    \"\"\"\n",
        "    # The machines must be in the same semiring\n",
        "    assert fst1.R == fst2.R\n",
        "\n",
        "    comp_fst = FST(R=fst1.R)\n",
        "\n",
        "    # TODO: implement composition\n",
        "\n",
        "    # Utilizes the composition_algorithm implementation defined above to compute the composition of\n",
        "    # the first FST with the FST generated by the get_epsilon_filter method, and the resulting FST\n",
        "    # is further composed with the second FST to obtain the true and correct composition of FST1 and FST2\n",
        "\n",
        "    fst1 = fst1.augment_epsilon_transitions(1)\n",
        "    fst2 = fst2.augment_epsilon_transitions(2)\n",
        "\n",
        "    epsilon_t = get_epsilon_filter(R=fst1.R, Sigma=fst1.Sigma)\n",
        "\n",
        "    interm_fst = composition_algorithm(fst1, epsilon_t)\n",
        "    comp_fst = composition_algorithm(interm_fst, fst2)\n",
        "\n",
        "    return comp_fst"
      ],
      "metadata": {
        "id": "jQW7-d072baJ"
      },
      "execution_count": null,
      "outputs": []
    },
    {
      "cell_type": "code",
      "source": [
        "examples[4]['composition']['fst']"
      ],
      "metadata": {
        "id": "bB3AfVE3ko8o",
        "colab": {
          "base_uri": "https://localhost:8080/",
          "height": 549
        },
        "outputId": "c6e0e51e-889e-4d9f-aae2-769652cf66b5"
      },
      "execution_count": null,
      "outputs": [
        {
          "output_type": "execute_result",
          "data": {
            "text/plain": [
              "WFSA(8 states, <class 'rayuela.base.semiring.Boolean'>)"
            ],
            "text/html": [
              "\n",
              "\t\t<script>\n",
              "\t\ttry {\n",
              "\t\trequire.config({\n",
              "\t\tpaths: {\n",
              "\t\t\"d3\": \"https://cdnjs.cloudflare.com/ajax/libs/d3/4.13.0/d3\",\n",
              "\t\t\"dagreD3\": \"https://cdnjs.cloudflare.com/ajax/libs/dagre-d3/0.6.1/dagre-d3.min\"\n",
              "\t\t}\n",
              "\t\t});\n",
              "\t\t} catch {\n",
              "\t\t  [\"https://cdnjs.cloudflare.com/ajax/libs/d3/4.13.0/d3.js\",\n",
              "\t\t   \"https://cdnjs.cloudflare.com/ajax/libs/dagre-d3/0.6.1/dagre-d3.min.js\"].forEach(function (src) {\n",
              "\t\t\tvar tag = document.createElement('script');\n",
              "\t\t\ttag.src = src;\n",
              "\t\t\tdocument.body.appendChild(tag);\n",
              "\t\t  })\n",
              "\t\t}\n",
              "\t\ttry {\n",
              "\t\trequirejs(['d3', 'dagreD3'], function() {});\n",
              "\t\t} catch (e) {}\n",
              "\t\ttry {\n",
              "\t\trequire(['d3', 'dagreD3'], function() {});\n",
              "\t\t} catch (e) {}\n",
              "\t\t</script>\n",
              "\t\t<style>\n",
              "\t\t.node rect,\n",
              "\t\t.node circle,\n",
              "\t\t.node ellipse {\n",
              "\t\tstroke: #333;\n",
              "\t\tfill: #fff;\n",
              "\t\tstroke-width: 1px;\n",
              "\t\t}\n",
              "\n",
              "\t\t.edgePath path {\n",
              "\t\tstroke: #333;\n",
              "\t\tfill: #333;\n",
              "\t\tstroke-width: 1.5px;\n",
              "\t\t}\n",
              "\t\t</style>\n",
              "\t\t<center><svg width=\"850\" height=\"600\" id=\"fst_ab66d2d799d542c2bfe4a1c027d653f2\"><g/></svg></center>\n",
              "\t\t<script>\n",
              "\t\t(function render_d3() {\n",
              "\t\tvar d3, dagreD3;\n",
              "\t\ttry { // requirejs is broken on external domains\n",
              "\t\t  d3 = require('d3');\n",
              "\t\t  dagreD3 = require('dagreD3');\n",
              "\t\t} catch (e) {\n",
              "\t\t  // for google colab\n",
              "\t\t  if(typeof window.d3 !== \"undefined\" && typeof window.dagreD3 !== \"undefined\") {\n",
              "\t\t\td3 = window.d3;\n",
              "\t\t\tdagreD3 = window.dagreD3;\n",
              "\t\t  } else { // not loaded yet, so wait and try again\n",
              "\t\t\tsetTimeout(render_d3, 50);\n",
              "\t\t\treturn;\n",
              "\t\t  }\n",
              "\t\t}\n",
              "\t\t//alert(\"loaded\");\n",
              "\t\tvar g = new dagreD3.graphlib.Graph().setGraph({ 'rankdir': 'LR' });\n",
              "\t\tg.setNode(\"( ( 0, 0 ), 0 )\", { label: \"( ( 0, 0 ), 0 ) / True\" , shape: \"circle\" });\n",
              "g.node(\"( ( 0, 0 ), 0 )\").style = \"fill: #66c2a5\"; \n",
              "g.setNode(\"( ( 1, 0 ), 0 )\", { label: \"( ( 1, 0 ), 0 )\" , shape: \"circle\" });\n",
              "g.node(\"( ( 1, 0 ), 0 )\").style = \"fill: #8da0cb\"; \n",
              "g.setNode(\"( ( 0, 1 ), 1 )\", { label: \"( ( 0, 1 ), 1 )\" , shape: \"circle\" });\n",
              "g.node(\"( ( 0, 1 ), 1 )\").style = \"fill: #8da0cb\"; \n",
              "g.setNode(\"( ( 0, 0 ), 1 )\", { label: \"( ( 0, 0 ), 1 )\" , shape: \"circle\" });\n",
              "g.node(\"( ( 0, 0 ), 1 )\").style = \"fill: #8da0cb\"; \n",
              "g.setNode(\"( ( 1, 2 ), 0 )\", { label: \"( ( 1, 2 ), 0 )\" , shape: \"circle\" });\n",
              "g.node(\"( ( 1, 2 ), 0 )\").style = \"fill: #8da0cb\"; \n",
              "g.setNode(\"( ( 1, 0 ), 1 )\", { label: \"( ( 1, 0 ), 1 ) / True\" , shape: \"circle\" });\n",
              "g.node(\"( ( 1, 0 ), 1 )\").style = \"fill: #fc8d62\"; \n",
              "g.setNode(\"( ( 1, 1 ), 1 )\", { label: \"( ( 1, 1 ), 1 ) / True\" , shape: \"circle\" });\n",
              "g.node(\"( ( 1, 1 ), 1 )\").style = \"fill: #fc8d62\"; \n",
              "g.setNode(\"( ( 1, 2 ), 1 )\", { label: \"( ( 1, 2 ), 1 ) / True\" , shape: \"circle\" });\n",
              "g.node(\"( ( 1, 2 ), 1 )\").style = \"fill: #fc8d62\"; \n",
              "g.setEdge(\"( ( 0, 1 ), 1 )\", \"( ( 0, 0 ), 0 )\", { arrowhead: \"vee\", label: \"(b, \\u03b5) / True\\n(a, b) / True\" });\n",
              "g.setEdge(\"( ( 0, 1 ), 1 )\", \"( ( 1, 0 ), 0 )\", { arrowhead: \"vee\", label: \"(\\u03b5, \\u03b5) / True\" });\n",
              "g.setEdge(\"( ( 1, 2 ), 0 )\", \"( ( 1, 0 ), 1 )\", { arrowhead: \"vee\", label: \"(\\u03b5, b) / True\\n(b, b) / True\" });\n",
              "g.setEdge(\"( ( 1, 2 ), 0 )\", \"( ( 1, 2 ), 0 )\", { arrowhead: \"vee\", label: \"(a, \\u03b5) / True\" });\n",
              "g.setEdge(\"( ( 1, 1 ), 1 )\", \"( ( 1, 0 ), 0 )\", { arrowhead: \"vee\", label: \"(\\u03b5, \\u03b5) / True\\n(b, \\u03b5) / True\" });\n",
              "g.setEdge(\"( ( 1, 0 ), 1 )\", \"( ( 1, 0 ), 0 )\", { arrowhead: \"vee\", label: \"(\\u03b5, \\u03b5) / True\\n(b, \\u03b5) / True\" });\n",
              "g.setEdge(\"( ( 1, 0 ), 1 )\", \"( ( 1, 2 ), 1 )\", { arrowhead: \"vee\", label: \"(a, \\u03b5) / True\" });\n",
              "g.setEdge(\"( ( 0, 0 ), 1 )\", \"( ( 0, 0 ), 0 )\", { arrowhead: \"vee\", label: \"(b, \\u03b5) / True\\n(a, b) / True\" });\n",
              "g.setEdge(\"( ( 0, 0 ), 1 )\", \"( ( 1, 0 ), 0 )\", { arrowhead: \"vee\", label: \"(\\u03b5, \\u03b5) / True\" });\n",
              "g.setEdge(\"( ( 1, 2 ), 1 )\", \"( ( 1, 0 ), 0 )\", { arrowhead: \"vee\", label: \"(\\u03b5, \\u03b5) / True\\n(b, \\u03b5) / True\" });\n",
              "g.setEdge(\"( ( 1, 2 ), 1 )\", \"( ( 1, 2 ), 1 )\", { arrowhead: \"vee\", label: \"(a, \\u03b5) / True\" });\n",
              "g.setEdge(\"( ( 1, 0 ), 0 )\", \"( ( 1, 1 ), 1 )\", { arrowhead: \"vee\", label: \"(\\u03b5, a) / True\" });\n",
              "g.setEdge(\"( ( 1, 0 ), 0 )\", \"( ( 1, 0 ), 1 )\", { arrowhead: \"vee\", label: \"(\\u03b5, b) / True\\n(b, b) / True\\n(a, a) / True\" });\n",
              "g.setEdge(\"( ( 1, 0 ), 0 )\", \"( ( 1, 2 ), 0 )\", { arrowhead: \"vee\", label: \"(a, \\u03b5) / True\" });\n",
              "g.setEdge(\"( ( 0, 0 ), 0 )\", \"( ( 0, 1 ), 1 )\", { arrowhead: \"vee\", label: \"(\\u03b5, a) / True\" });\n",
              "g.setEdge(\"( ( 0, 0 ), 0 )\", \"( ( 0, 0 ), 1 )\", { arrowhead: \"vee\", label: \"(b, b) / True\\n(a, \\u03b5) / True\" });\n",
              "g.setEdge(\"( ( 0, 0 ), 0 )\", \"( ( 1, 0 ), 1 )\", { arrowhead: \"vee\", label: \"(\\u03b5, b) / True\" });\n",
              "var svg = d3.select(\"#fst_ab66d2d799d542c2bfe4a1c027d653f2\"); \n",
              "\n",
              "\t\tvar inner = svg.select(\"g\");\n",
              "\n",
              "\t\t// Set up zoom support\n",
              "\t\tvar zoom = d3.zoom().scaleExtent([0.3, 5]).on(\"zoom\", function() {\n",
              "\t\tinner.attr(\"transform\", d3.event.transform);\n",
              "\t\t});\n",
              "\t\tsvg.call(zoom);\n",
              "\n",
              "\t\t// Create the renderer\n",
              "\t\tvar render = new dagreD3.render();\n",
              "\n",
              "\t\t// Run the renderer. This is what draws the final graph.\n",
              "\t\trender(inner, g);\n",
              "\n",
              "\t\t// Center the graph\n",
              "\t\tvar initialScale = 0.75;\n",
              "\t\tsvg.call(zoom.transform, d3.zoomIdentity.translate(\n",
              "\t\t    (svg.attr(\"width\") - g.graph().width * initialScale) / 2, 20).scale(initialScale));\n",
              "\n",
              "\t\tsvg.attr('height', g.graph().height * initialScale + 50);\n",
              "\t\t})();\n",
              "\n",
              "\t\t</script>\n",
              "\t\t"
            ]
          },
          "metadata": {},
          "execution_count": 50
        }
      ]
    },
    {
      "cell_type": "code",
      "source": [
        "i = 4\n",
        "fst = compose(examples[i]['fst1']['fst'], examples[i]['fst2']['fst'])\n",
        "fst"
      ],
      "metadata": {
        "colab": {
          "base_uri": "https://localhost:8080/",
          "height": 549
        },
        "id": "TypR3xoAcLSY",
        "outputId": "e4ee2798-7c91-4ccd-e9dc-e07922e97de3"
      },
      "execution_count": null,
      "outputs": [
        {
          "output_type": "execute_result",
          "data": {
            "text/plain": [
              "WFSA(8 states, <class 'rayuela.base.semiring.Boolean'>)"
            ],
            "text/html": [
              "\n",
              "\t\t<script>\n",
              "\t\ttry {\n",
              "\t\trequire.config({\n",
              "\t\tpaths: {\n",
              "\t\t\"d3\": \"https://cdnjs.cloudflare.com/ajax/libs/d3/4.13.0/d3\",\n",
              "\t\t\"dagreD3\": \"https://cdnjs.cloudflare.com/ajax/libs/dagre-d3/0.6.1/dagre-d3.min\"\n",
              "\t\t}\n",
              "\t\t});\n",
              "\t\t} catch {\n",
              "\t\t  [\"https://cdnjs.cloudflare.com/ajax/libs/d3/4.13.0/d3.js\",\n",
              "\t\t   \"https://cdnjs.cloudflare.com/ajax/libs/dagre-d3/0.6.1/dagre-d3.min.js\"].forEach(function (src) {\n",
              "\t\t\tvar tag = document.createElement('script');\n",
              "\t\t\ttag.src = src;\n",
              "\t\t\tdocument.body.appendChild(tag);\n",
              "\t\t  })\n",
              "\t\t}\n",
              "\t\ttry {\n",
              "\t\trequirejs(['d3', 'dagreD3'], function() {});\n",
              "\t\t} catch (e) {}\n",
              "\t\ttry {\n",
              "\t\trequire(['d3', 'dagreD3'], function() {});\n",
              "\t\t} catch (e) {}\n",
              "\t\t</script>\n",
              "\t\t<style>\n",
              "\t\t.node rect,\n",
              "\t\t.node circle,\n",
              "\t\t.node ellipse {\n",
              "\t\tstroke: #333;\n",
              "\t\tfill: #fff;\n",
              "\t\tstroke-width: 1px;\n",
              "\t\t}\n",
              "\n",
              "\t\t.edgePath path {\n",
              "\t\tstroke: #333;\n",
              "\t\tfill: #333;\n",
              "\t\tstroke-width: 1.5px;\n",
              "\t\t}\n",
              "\t\t</style>\n",
              "\t\t<center><svg width=\"850\" height=\"600\" id=\"fst_df4fad6d2e2d4d24bf9447de682b9f38\"><g/></svg></center>\n",
              "\t\t<script>\n",
              "\t\t(function render_d3() {\n",
              "\t\tvar d3, dagreD3;\n",
              "\t\ttry { // requirejs is broken on external domains\n",
              "\t\t  d3 = require('d3');\n",
              "\t\t  dagreD3 = require('dagreD3');\n",
              "\t\t} catch (e) {\n",
              "\t\t  // for google colab\n",
              "\t\t  if(typeof window.d3 !== \"undefined\" && typeof window.dagreD3 !== \"undefined\") {\n",
              "\t\t\td3 = window.d3;\n",
              "\t\t\tdagreD3 = window.dagreD3;\n",
              "\t\t  } else { // not loaded yet, so wait and try again\n",
              "\t\t\tsetTimeout(render_d3, 50);\n",
              "\t\t\treturn;\n",
              "\t\t  }\n",
              "\t\t}\n",
              "\t\t//alert(\"loaded\");\n",
              "\t\tvar g = new dagreD3.graphlib.Graph().setGraph({ 'rankdir': 'LR' });\n",
              "\t\tg.setNode(\"( ( 0, 0 ), 0 )\", { label: \"( ( 0, 0 ), 0 ) / True\" , shape: \"circle\" });\n",
              "g.node(\"( ( 0, 0 ), 0 )\").style = \"fill: #66c2a5\"; \n",
              "g.setNode(\"( ( 1, 0 ), 0 )\", { label: \"( ( 1, 0 ), 0 )\" , shape: \"circle\" });\n",
              "g.node(\"( ( 1, 0 ), 0 )\").style = \"fill: #8da0cb\"; \n",
              "g.setNode(\"( ( 0, 1 ), 1 )\", { label: \"( ( 0, 1 ), 1 )\" , shape: \"circle\" });\n",
              "g.node(\"( ( 0, 1 ), 1 )\").style = \"fill: #8da0cb\"; \n",
              "g.setNode(\"( ( 0, 0 ), 1 )\", { label: \"( ( 0, 0 ), 1 )\" , shape: \"circle\" });\n",
              "g.node(\"( ( 0, 0 ), 1 )\").style = \"fill: #8da0cb\"; \n",
              "g.setNode(\"( ( 1, 2 ), 0 )\", { label: \"( ( 1, 2 ), 0 )\" , shape: \"circle\" });\n",
              "g.node(\"( ( 1, 2 ), 0 )\").style = \"fill: #8da0cb\"; \n",
              "g.setNode(\"( ( 1, 0 ), 1 )\", { label: \"( ( 1, 0 ), 1 ) / True\" , shape: \"circle\" });\n",
              "g.node(\"( ( 1, 0 ), 1 )\").style = \"fill: #fc8d62\"; \n",
              "g.setNode(\"( ( 1, 1 ), 1 )\", { label: \"( ( 1, 1 ), 1 ) / True\" , shape: \"circle\" });\n",
              "g.node(\"( ( 1, 1 ), 1 )\").style = \"fill: #fc8d62\"; \n",
              "g.setNode(\"( ( 1, 2 ), 1 )\", { label: \"( ( 1, 2 ), 1 ) / True\" , shape: \"circle\" });\n",
              "g.node(\"( ( 1, 2 ), 1 )\").style = \"fill: #fc8d62\"; \n",
              "g.setEdge(\"( ( 0, 1 ), 1 )\", \"( ( 0, 0 ), 0 )\", { arrowhead: \"vee\", label: \"(b, \\u03b5) / True\\n(a, b) / True\" });\n",
              "g.setEdge(\"( ( 0, 1 ), 1 )\", \"( ( 1, 0 ), 0 )\", { arrowhead: \"vee\", label: \"(\\u03b5, \\u03b5) / True\" });\n",
              "g.setEdge(\"( ( 1, 2 ), 0 )\", \"( ( 1, 0 ), 1 )\", { arrowhead: \"vee\", label: \"(\\u03b5, b) / True\\n(b, b) / True\" });\n",
              "g.setEdge(\"( ( 1, 2 ), 0 )\", \"( ( 1, 2 ), 0 )\", { arrowhead: \"vee\", label: \"(a, \\u03b5) / True\" });\n",
              "g.setEdge(\"( ( 1, 0 ), 1 )\", \"( ( 1, 0 ), 0 )\", { arrowhead: \"vee\", label: \"(\\u03b5, \\u03b5) / True\\n(b, \\u03b5) / True\" });\n",
              "g.setEdge(\"( ( 1, 0 ), 1 )\", \"( ( 1, 2 ), 1 )\", { arrowhead: \"vee\", label: \"(a, \\u03b5) / True\" });\n",
              "g.setEdge(\"( ( 1, 1 ), 1 )\", \"( ( 1, 0 ), 0 )\", { arrowhead: \"vee\", label: \"(\\u03b5, \\u03b5) / True\\n(b, \\u03b5) / True\" });\n",
              "g.setEdge(\"( ( 0, 0 ), 1 )\", \"( ( 0, 0 ), 0 )\", { arrowhead: \"vee\", label: \"(b, \\u03b5) / True\\n(a, b) / True\" });\n",
              "g.setEdge(\"( ( 0, 0 ), 1 )\", \"( ( 1, 0 ), 0 )\", { arrowhead: \"vee\", label: \"(\\u03b5, \\u03b5) / True\" });\n",
              "g.setEdge(\"( ( 1, 2 ), 1 )\", \"( ( 1, 0 ), 0 )\", { arrowhead: \"vee\", label: \"(\\u03b5, \\u03b5) / True\\n(b, \\u03b5) / True\" });\n",
              "g.setEdge(\"( ( 1, 2 ), 1 )\", \"( ( 1, 2 ), 1 )\", { arrowhead: \"vee\", label: \"(a, \\u03b5) / True\" });\n",
              "g.setEdge(\"( ( 1, 0 ), 0 )\", \"( ( 1, 1 ), 1 )\", { arrowhead: \"vee\", label: \"(\\u03b5, a) / True\" });\n",
              "g.setEdge(\"( ( 1, 0 ), 0 )\", \"( ( 1, 0 ), 1 )\", { arrowhead: \"vee\", label: \"(\\u03b5, b) / True\\n(b, b) / True\\n(a, a) / True\" });\n",
              "g.setEdge(\"( ( 1, 0 ), 0 )\", \"( ( 1, 2 ), 0 )\", { arrowhead: \"vee\", label: \"(a, \\u03b5) / True\" });\n",
              "g.setEdge(\"( ( 0, 0 ), 0 )\", \"( ( 0, 1 ), 1 )\", { arrowhead: \"vee\", label: \"(\\u03b5, a) / True\" });\n",
              "g.setEdge(\"( ( 0, 0 ), 0 )\", \"( ( 0, 0 ), 1 )\", { arrowhead: \"vee\", label: \"(b, b) / True\\n(a, \\u03b5) / True\" });\n",
              "g.setEdge(\"( ( 0, 0 ), 0 )\", \"( ( 1, 0 ), 1 )\", { arrowhead: \"vee\", label: \"(\\u03b5, b) / True\" });\n",
              "var svg = d3.select(\"#fst_df4fad6d2e2d4d24bf9447de682b9f38\"); \n",
              "\n",
              "\t\tvar inner = svg.select(\"g\");\n",
              "\n",
              "\t\t// Set up zoom support\n",
              "\t\tvar zoom = d3.zoom().scaleExtent([0.3, 5]).on(\"zoom\", function() {\n",
              "\t\tinner.attr(\"transform\", d3.event.transform);\n",
              "\t\t});\n",
              "\t\tsvg.call(zoom);\n",
              "\n",
              "\t\t// Create the renderer\n",
              "\t\tvar render = new dagreD3.render();\n",
              "\n",
              "\t\t// Run the renderer. This is what draws the final graph.\n",
              "\t\trender(inner, g);\n",
              "\n",
              "\t\t// Center the graph\n",
              "\t\tvar initialScale = 0.75;\n",
              "\t\tsvg.call(zoom.transform, d3.zoomIdentity.translate(\n",
              "\t\t    (svg.attr(\"width\") - g.graph().width * initialScale) / 2, 20).scale(initialScale));\n",
              "\n",
              "\t\tsvg.attr('height', g.graph().height * initialScale + 50);\n",
              "\t\t})();\n",
              "\n",
              "\t\t</script>\n",
              "\t\t"
            ]
          },
          "metadata": {},
          "execution_count": 51
        }
      ]
    },
    {
      "cell_type": "markdown",
      "source": [
        "### Subquestion e) - Lehmann's Algorithm"
      ],
      "metadata": {
        "id": "_iBUgq4vY8Th"
      }
    },
    {
      "cell_type": "code",
      "source": [
        "class Pathsum:\n",
        "    def __init__(self, fsa):\n",
        "\n",
        "        # basic FSA stuff\n",
        "        self.fsa = fsa\n",
        "        self.R = fsa.R\n",
        "        self.N = self.fsa.num_states\n",
        "\n",
        "        # state dictionary\n",
        "        self.I = {}\n",
        "        for n, q in enumerate(self.fsa.Q):\n",
        "            self.I[q] = n\n",
        "\n",
        "        # lift into the semiring\n",
        "        self.W, self.W_dict, self.alpha, self.beta = self.lift()\n",
        "\n",
        "\n",
        "    def lift(self):\n",
        "        \"\"\" creates the weight matrix, initial weight vector,\n",
        "        final weight vector from the automaton \"\"\"\n",
        "        W = self.R.zeros((self.N, self.N))\n",
        "        W_dict = {a: {} for a in self.fsa.Sigma}\n",
        "        alpha = self.R.zeros((self.N,))\n",
        "        beta = self.R.zeros((self.N,))\n",
        "        for a in self.fsa.Sigma:\n",
        "            for b in self.fsa.Delta:\n",
        "                W_dict[a][b] = self.R.zeros((self.N, self.N))\n",
        "        for p in self.fsa.Q:\n",
        "            alpha[self.I[p]] += self.fsa.λ[p]\n",
        "            beta[self.I[p]] += self.fsa.ρ[p]\n",
        "            for (a, b), q, w in self.fsa.arcs(p):\n",
        "                W[self.I[p], self.I[q]] += w\n",
        "                W_dict[a][b][self.I[p], self.I[q]] = w\n",
        "        return W, W_dict, alpha, beta\n",
        "\n",
        "    def lehmann(self):\n",
        "        \"\"\"\n",
        "        Lehmann's (1977) algorithm.\n",
        "        \"\"\"\n",
        "        # TODO: implement\n",
        "        U = self.W.copy()\n",
        "        V = self.W.copy()\n",
        "\n",
        "        for j in range(self.N):\n",
        "            V = self.R.zeros((self.N, self.N))\n",
        "\n",
        "            for i in range(self.N):\n",
        "                for k in range(self.N):\n",
        "                    V[i,k] = U[i,k] + U[i,j] * U[j,j].star() * U[j,k]\n",
        "\n",
        "            U = V\n",
        "\n",
        "        for i in range(self.N):\n",
        "            V[i, i] += self.fsa.R.one\n",
        "\n",
        "        return V\n",
        "\n",
        "    def _iterate(self, K):\n",
        "        P = self.R.diag(self.N)\n",
        "        for n in range(K):\n",
        "            P += self.W @ P\n",
        "        return P\n",
        "\n",
        "    def _fixpoint(self, K=200):\n",
        "        if self.fsa.R.idempotent:\n",
        "            return self._iterate(self.fsa.num_states)\n",
        "\n",
        "        diag = self.R.zeros((self.fsa.num_states, self.fsa.num_states))\n",
        "        for n in range(self.fsa.num_states):\n",
        "            diag[n, n] = self.fsa.R.one\n",
        "        P_old = diag\n",
        "\n",
        "        for _ in range(K):\n",
        "            P_new = diag + self.W @ P_old\n",
        "            P_old = P_new\n",
        "\n",
        "        return P_old\n",
        "\n",
        "    def fixpoint(self):\n",
        "\n",
        "        P = self._fixpoint()\n",
        "        W = {}\n",
        "\n",
        "        for p in self.fsa.Q:\n",
        "            for q in self.fsa.Q:\n",
        "                if p in self.I and q in self.I:\n",
        "                    W[p, q] = P[self.I[p], self.I[q]]\n",
        "                elif p == q:\n",
        "                    W[p, q] = self.R.one\n",
        "                else:\n",
        "                    W[p, q] = self.R.zero\n",
        "\n",
        "        return frozendict(W)"
      ],
      "metadata": {
        "id": "JdoPOG8ug-z1"
      },
      "execution_count": null,
      "outputs": []
    },
    {
      "cell_type": "code",
      "source": [
        "pathsum = Pathsum(examples[0]['fst1']['fst'])\n",
        "print(pathsum.fixpoint())\n",
        "print(pathsum.lehmann())"
      ],
      "metadata": {
        "id": "cVSgt6AyIKvL",
        "colab": {
          "base_uri": "https://localhost:8080/"
        },
        "outputId": "928d69e3-eacd-4903-c897-5acae44307b5"
      },
      "execution_count": null,
      "outputs": [
        {
          "output_type": "stream",
          "name": "stdout",
          "text": [
            "frozendict.frozendict({(0, 0): 1.0, (0, 1): 0.25, (1, 0): 0.0, (1, 1): 1.146788990825688})\n",
            "[[1.0 0.25]\n",
            " [0.0 1.146788990825688]]\n"
          ]
        }
      ]
    },
    {
      "cell_type": "markdown",
      "source": [
        "### Subquestion f) - Normalizer"
      ],
      "metadata": {
        "id": "j3yMKALJZE23"
      }
    },
    {
      "cell_type": "markdown",
      "source": [
        "We provide some test cases for you to inspect."
      ],
      "metadata": {
        "id": "HWYq69zqZBym"
      }
    },
    {
      "cell_type": "code",
      "source": [
        "examples[0]['fst1']['Z'], examples[0]['fst2']['Z'], examples[0]['composition']['Z']"
      ],
      "metadata": {
        "id": "2CfkrNj9ZCXj",
        "colab": {
          "base_uri": "https://localhost:8080/"
        },
        "outputId": "9b59e128-7a7b-499d-bbdb-c9516348a845"
      },
      "execution_count": null,
      "outputs": [
        {
          "output_type": "execute_result",
          "data": {
            "text/plain": [
              "(0.00138425, 0.000997195294118, 7.07192371e-07)"
            ]
          },
          "metadata": {},
          "execution_count": 54
        }
      ]
    },
    {
      "cell_type": "code",
      "source": [
        "def normalizer(fst):\n",
        "    \"\"\" Takes as input a finite-state transducer and\n",
        "    returns its normalizer\n",
        "    \"\"\"\n",
        "\n",
        "    pathsum = Pathsum(fst)\n",
        "    # TODO: implement normalizer\n",
        "    Z = fst.R.zero\n",
        "    V = pathsum.lehmann()\n",
        "\n",
        "    for n, q_n in enumerate(fst.Q):\n",
        "        for m, q_m in enumerate(fst.Q):\n",
        "            Z += fst.λ[q_n] * V[n,m] * fst.ρ[q_m]\n",
        "\n",
        "    return Z"
      ],
      "metadata": {
        "id": "pEwB-REPhvQ_"
      },
      "execution_count": null,
      "outputs": []
    },
    {
      "cell_type": "code",
      "source": [
        "print(normalizer(examples[0]['fst1']['fst']), normalizer(examples[0]['fst2']['fst']), normalizer(examples[0]['composition']['fst']))"
      ],
      "metadata": {
        "colab": {
          "base_uri": "https://localhost:8080/"
        },
        "id": "GQuwBxNi_18S",
        "outputId": "782f8733-75a4-42c4-a770-e61a43f48abc"
      },
      "execution_count": null,
      "outputs": [
        {
          "output_type": "stream",
          "name": "stdout",
          "text": [
            "0.00138425 0.000997195294118 7.07192371e-07\n"
          ]
        }
      ]
    },
    {
      "cell_type": "markdown",
      "source": [
        "### Subquestion g) - Log-likelihood"
      ],
      "metadata": {
        "id": "Cn7vgvpSZPwQ"
      }
    },
    {
      "cell_type": "code",
      "source": [
        "def log_likelihood(source_alphabet, target_alphabet, source_str, target_str):\n",
        "    \"\"\" Takes as input the source and target alphabets (sets of characters)\n",
        "    and a pair of source and target strings and returns the log-likelihood\n",
        "    \"\"\"\n",
        "\n",
        "    # TODO: implement log-likelihood\n",
        "    fst1 = string_fst(source_str, Log)\n",
        "    fst2 = string_fst(target_str, Log)\n",
        "    ed_fst = edit_distance_fst(source_alphabet, target_alphabet, Log)\n",
        "\n",
        "    fst1_ed_fst = compose(fst1, ed_fst)\n",
        "    fst1_ed_fst_fst2 = compose(fst1_ed_fst, fst2)\n",
        "\n",
        "    return normalizer(fst1_ed_fst_fst2).score - normalizer(fst1_ed_fst).score"
      ],
      "metadata": {
        "id": "MLZJLsx3iYUq"
      },
      "execution_count": null,
      "outputs": []
    },
    {
      "cell_type": "code",
      "source": [
        "log_likelihood({'a', 'b', 'c'}, {'d', 'e', 'f'}, 'abc', 'df')"
      ],
      "metadata": {
        "colab": {
          "base_uri": "https://localhost:8080/"
        },
        "id": "Pddz6Pla45Ov",
        "outputId": "628e1dde-0d1f-45b9-b586-531c0c909ce4"
      },
      "execution_count": null,
      "outputs": [
        {
          "output_type": "execute_result",
          "data": {
            "text/plain": [
              "-inf"
            ]
          },
          "metadata": {},
          "execution_count": 58
        }
      ]
    },
    {
      "cell_type": "markdown",
      "source": [
        "### Subquestion h) - Decoding"
      ],
      "metadata": {
        "id": "4ookC1XyZVCT"
      }
    },
    {
      "cell_type": "code",
      "source": [
        "def to_semiring(fst, semiring):\n",
        "    \"\"\" Lifts an WFST into a different semiring\n",
        "    \"\"\"\n",
        "    oone, one = fst.R.one, semiring.one\n",
        "    nfst = FST(semiring)\n",
        "\n",
        "    # initial weights\n",
        "    for q, w in fst.I:\n",
        "        if w == oone:\n",
        "            nfst.set_I(q, one)\n",
        "        else:\n",
        "            nfst.set_I(q, semiring(w.score))\n",
        "\n",
        "    # final weights\n",
        "    for q, w in fst.F:\n",
        "        if w == oone:\n",
        "            nfst.set_F(q, one)\n",
        "        else:\n",
        "            nfst.set_F(q, semiring(w.score))\n",
        "\n",
        "    # arcs\n",
        "    for p in fst.Q:\n",
        "        for (a, b), q, w in fst.arcs(p):\n",
        "            if w == oone:\n",
        "                nfst.add_arc(p, a, b, q, one)\n",
        "            else:\n",
        "                nfst.add_arc(p, a, b, q, semiring(w.score))\n",
        "\n",
        "    return nfst"
      ],
      "metadata": {
        "id": "Q6UXHrpMZcrV"
      },
      "execution_count": null,
      "outputs": []
    },
    {
      "cell_type": "code",
      "source": [
        "class Arctic(Semiring):\n",
        "    def __init__(self, score):\n",
        "        self.score = score\n",
        "\n",
        "    def star(self):\n",
        "        return self.one\n",
        "\n",
        "    def __float__(self):\n",
        "        return float(self.score)\n",
        "\n",
        "    def __add__(self, other):\n",
        "        return Arctic(max(self.score, other.score))\n",
        "\n",
        "    def __mul__(self, other):\n",
        "        if other is self.one:\n",
        "            return self\n",
        "        if self is self.one:\n",
        "            return other\n",
        "        if other is self.zero:\n",
        "            return self.zero\n",
        "        if self is self.zero:\n",
        "            return self.zero\n",
        "        return Arctic(self.score + other.score)\n",
        "\n",
        "    def __invert__(self):\n",
        "        return Arctic(-self.score)\n",
        "\n",
        "    def __truediv__(self, other):\n",
        "        return Arctic(self.score - other.score)\n",
        "\n",
        "    def __lt__(self, other):\n",
        "        return self.score < other.score\n",
        "\n",
        "    def __repr__(self):\n",
        "        return f\"Arctic({self.score})\"\n",
        "\n",
        "    def __str__(self):\n",
        "        return str(self.score)\n",
        "\n",
        "\n",
        "Arctic.zero = Arctic(-float(\"inf\"))\n",
        "Arctic.one = Arctic(0.0)\n",
        "Arctic.idempotent = True\n",
        "Arctic.superior = True\n",
        "Arctic.cancellative = True"
      ],
      "metadata": {
        "id": "8RMUXw8YRATx"
      },
      "execution_count": null,
      "outputs": []
    },
    {
      "cell_type": "code",
      "source": [
        "def decode(in_str, edit_distance_fst):\n",
        "    \"\"\" Gets as input a source string and an\n",
        "    edit-distance transducer and returns the weight of the most\n",
        "    probable target string\n",
        "    \"\"\"\n",
        "    # TODO: implement\n",
        "    fst = string_fst(in_str)\n",
        "    comp_fst = compose(fst, edit_distance_fst)\n",
        "\n",
        "    lifted_fst = to_semiring(comp_fst, Arctic)\n",
        "    weight = normalizer(lifted_fst).score\n",
        "\n",
        "    return weight"
      ],
      "metadata": {
        "id": "YCImTl323bbd"
      },
      "execution_count": null,
      "outputs": []
    },
    {
      "cell_type": "code",
      "source": [
        "edit_distance = edit_distance_fst({'a', 'b', 'c'}, {'d', 'e'}, Log)\n",
        "decode('abc', edit_distance)"
      ],
      "metadata": {
        "colab": {
          "base_uri": "https://localhost:8080/"
        },
        "id": "dKaqWPfv-PY1",
        "outputId": "5e6f49ac-2720-431b-e4e4-ce02f6cad71a"
      },
      "execution_count": null,
      "outputs": [
        {
          "output_type": "execute_result",
          "data": {
            "text/plain": [
              "-327.5889001988654"
            ]
          },
          "metadata": {},
          "execution_count": 62
        }
      ]
    }
  ]
}