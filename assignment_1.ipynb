{
  "nbformat": 4,
  "nbformat_minor": 0,
  "metadata": {
    "colab": {
      "provenance": []
    },
    "kernelspec": {
      "name": "python3",
      "display_name": "Python 3"
    },
    "language_info": {
      "name": "python"
    }
  },
  "cells": [
    {
      "cell_type": "markdown",
      "source": [
        "# Assignment 1 – Backprop"
      ],
      "metadata": {
        "id": "Kf49KbBpaJsu"
      }
    },
    {
      "cell_type": "code",
      "source": [
        "#@title Library Imports [do not change]\n",
        "\n",
        "import importlib\n",
        "!git clone https://www.github.com/rycolab/intro-nlp-f23.git\n",
        "utils = importlib.import_module(\"intro-nlp-f23.assignment_1.utils\")\n",
        "\n",
        "import re\n",
        "import random\n",
        "from collections import defaultdict\n",
        "import itertools\n",
        "from abc import ABC, abstractmethod\n",
        "import math"
      ],
      "metadata": {
        "id": "wAhpRJSCgCh4",
        "colab": {
          "base_uri": "https://localhost:8080/"
        },
        "outputId": "051d1159-0673-4ab8-8f33-0a91eb02ff39",
        "cellView": "form"
      },
      "execution_count": 1,
      "outputs": [
        {
          "output_type": "stream",
          "name": "stdout",
          "text": [
            "Cloning into 'intro-nlp-f23'...\n",
            "warning: redirecting to https://github.com/rycolab/intro-nlp-f23.git/\n",
            "remote: Enumerating objects: 12, done.\u001b[K\n",
            "remote: Counting objects: 100% (12/12), done.\u001b[K\n",
            "remote: Compressing objects: 100% (10/10), done.\u001b[K\n",
            "remote: Total 12 (delta 1), reused 12 (delta 1), pack-reused 0\u001b[K\n",
            "Receiving objects: 100% (12/12), 4.25 KiB | 4.25 MiB/s, done.\n",
            "Resolving deltas: 100% (1/1), done.\n"
          ]
        }
      ]
    },
    {
      "cell_type": "code",
      "source": [
        "#@title Select and Parse Math Problems [do not change]\n",
        "\n",
        "#@markdown select math problem\n",
        "\n",
        "math_problem_i = \"3\" #@param [0,1,2,3]\n",
        "math_problem = utils.MATH_PROBLEMS[int(math_problem_i)]\n",
        "print(math_problem)\n",
        "\n",
        "parser = utils.Parser()\n",
        "infix, in_vars = parser.parse(math_problem[\"problem\"], in_vars = math_problem[\"in_vars\"])\n",
        "print(infix, in_vars)"
      ],
      "metadata": {
        "colab": {
          "base_uri": "https://localhost:8080/"
        },
        "id": "awwwql_ii0y0",
        "outputId": "29a4fef4-a7cc-41d1-8721-a2e686be3e8e",
        "cellView": "form"
      },
      "execution_count": 2,
      "outputs": [
        {
          "output_type": "stream",
          "name": "stdout",
          "text": [
            "{'problem': 'z + sin(x^(2) + (y * exp(z)))', 'in_vars': {'x': 2.0, 'y': -1.0, 'z': 4.0}, 'output': 3.67, 'derivative': {'x': 3.78, 'y': 51.6, 'z': -50.6}}\n",
            "['z', '+', ['sin', [['x', '^', 2], '+', ['y', '*', ['exp', 'z']]]]] {'x': 2.0, 'z': 4.0, 'y': -1.0}\n"
          ]
        }
      ]
    },
    {
      "cell_type": "code",
      "source": [
        "from collections.abc import ItemsView\n",
        "#@title ToDo1: Building\n",
        "\n",
        "\n",
        "class Builder():\n",
        "\n",
        "    def __init__(self, infix: list, in_vars: dict = {}):\n",
        "        \"\"\"\n",
        "        infix: list of infix notation parse, e.g. [['exp', 2], '-', 3]\n",
        "        in_vars: dict of input variables to ensure they are not used as intermediate or output variables\n",
        "        RETURN: computation graph in a data structure of your choosing\n",
        "        \"\"\"\n",
        "\n",
        "        ## some alphabetical vars to use as intermediate and output variables minus the input vars to avoid duplicates\n",
        "        avail_vars = list(map(chr, range(97, 123))) + list(map(chr, range(945, 969)))\n",
        "        if len(in_vars.keys()) > 0:\n",
        "            avail_vars = set(avail_vars) - set(in_vars)\n",
        "        self.avail_vars = sorted(list(set(avail_vars)), reverse=True)\n",
        "\n",
        "        self.infix = infix\n",
        "        self.graph = in_vars.copy()\n",
        "\n",
        "        ## ToDO: implement and set self.graph\n",
        "\n",
        "        self.avail_counter = 0\n",
        "        self.build_computational_graph()\n",
        "\n",
        "    def computational_graph(self, item, c_node):\n",
        "        operands = []\n",
        "        node = c_node\n",
        "\n",
        "        if isinstance(item, (str, int)):\n",
        "            pass\n",
        "\n",
        "        elif len(item) == 2:\n",
        "            operator = item[0]\n",
        "            if isinstance(item[1], (str, int)):\n",
        "                operands += [item[1]]\n",
        "            else:\n",
        "                self.avail_counter += 1\n",
        "                operands += [self.avail_vars[self.avail_counter]]\n",
        "            self.graph[node] = (operator, operands)\n",
        "            self.computational_graph(item[1], operands[0])\n",
        "\n",
        "        elif len(item) == 3:\n",
        "            operator = item[1]\n",
        "            if isinstance(item[0], (str, int)):\n",
        "                operands += [item[0]]\n",
        "            else:\n",
        "                self.avail_counter += 1\n",
        "                operands += [self.avail_vars[self.avail_counter]]\n",
        "            #if isinstance(item[2], int) or isinstance(item[2], str):\n",
        "            if isinstance(item[2], (str, int)):\n",
        "                operands += [item[2]]\n",
        "            else:\n",
        "                self.avail_counter += 1\n",
        "                operands += [self.avail_vars[self.avail_counter]]\n",
        "            self.graph[node] = (operator, operands)\n",
        "            self.computational_graph(item[0], operands[0])\n",
        "            self.computational_graph(item[2], operands[1])\n",
        "\n",
        "\n",
        "    def build_computational_graph(self):\n",
        "        self.computational_graph(self.infix, self.avail_vars[0])\n",
        "\n",
        "\n",
        "if __name__ == '__main__':\n",
        "\n",
        "    g = Builder(infix, in_vars)\n",
        "    print(g.graph)"
      ],
      "metadata": {
        "colab": {
          "base_uri": "https://localhost:8080/"
        },
        "id": "gEY0OEr4X2sO",
        "outputId": "20f2c045-ed99-432b-93b0-74c508bb48b9",
        "cellView": "form"
      },
      "execution_count": 3,
      "outputs": [
        {
          "output_type": "stream",
          "name": "stdout",
          "text": [
            "{'x': 2.0, 'z': 4.0, 'y': -1.0, 'ψ': ('+', ['z', 'χ']), 'χ': ('sin', ['φ']), 'φ': ('+', ['υ', 'τ']), 'υ': ('^', ['x', 2]), 'τ': ('*', ['y', 'σ']), 'σ': ('exp', ['z'])}\n"
          ]
        }
      ]
    },
    {
      "cell_type": "code",
      "source": [
        "#@title ToDo2: Operations\n",
        "\n",
        "class Operator(ABC):\n",
        "\n",
        "    @abstractmethod\n",
        "    def f(self, a, b = None) -> float:\n",
        "        raise NotImplementedError()\n",
        "        return f_res\n",
        "\n",
        "    @abstractmethod\n",
        "    def df(self, a, b = None) -> list:\n",
        "        raise NotImplementedError()\n",
        "        return [df_res]\n",
        "\n",
        "class Exp(Operator):\n",
        "\n",
        "    def f(self, a, b = None):\n",
        "        return math.exp(a)\n",
        "\n",
        "    def df(self, a, b = None):\n",
        "        return [math.exp(a)]\n",
        "\n",
        "class Log(Operator):\n",
        "    ## natural logarithm\n",
        "\n",
        "    def f(self, a, b = None):\n",
        "        ## ToDO: implement\n",
        "        return math.log(a)\n",
        "\n",
        "    def df(self, a, b = None):\n",
        "        ## ToDO: implement\n",
        "        return [1 / a]\n",
        "\n",
        "class Mult(Operator):\n",
        "\n",
        "    def f(self, a, b):\n",
        "        return a * b\n",
        "\n",
        "    def df(self, a, b=None):\n",
        "        return [b, a]\n",
        "\n",
        "class Div(Operator):\n",
        "\n",
        "    def f(self, a, b):\n",
        "        ## ToDO: implement\n",
        "        return a / b\n",
        "\n",
        "    def df(self, a, b):\n",
        "        ## ToDO: implement\n",
        "        return [1 / b, -a / (b**2)]\n",
        "\n",
        "class Add(Operator):\n",
        "\n",
        "    def f(self, a, b):\n",
        "        ## ToDO: implement\n",
        "        return a + b\n",
        "\n",
        "    def df(self, a, b = None):\n",
        "        ## ToDO: implement\n",
        "        return [1, 1]\n",
        "\n",
        "class Sub(Operator):\n",
        "\n",
        "    def f(self, a, b = None):\n",
        "        ## ToDO: implement\n",
        "        return a - b\n",
        "\n",
        "    def df(self, a, b = None):\n",
        "        ## ToDO: implement\n",
        "        return [1, -1]\n",
        "\n",
        "class Pow(Operator):\n",
        "\n",
        "    def f(self, a, b):\n",
        "        return a**b\n",
        "\n",
        "    def df(self, a, b):\n",
        "        if a <= 0: ## work-around: treat as unary operation if -a^b\n",
        "            return [b * (a ** (b - 1))]\n",
        "        else:\n",
        "            return [b * (a ** (b - 1)), (a ** b) * math.log(a)]\n",
        "\n",
        "class Sin(Operator):\n",
        "\n",
        "    def f(self, a, b=None):\n",
        "        ## ToDO: implement\n",
        "        return math.sin(a)\n",
        "\n",
        "    def df(self, a, b=None):\n",
        "        ## ToDO: implement\n",
        "        return [math.cos(a)]\n",
        "\n",
        "class Cos(Operator):\n",
        "\n",
        "    def f(self, a, b=None):\n",
        "        ## ToDO: implement\n",
        "        return math.cos(a)\n",
        "\n",
        "    def df(self, a, b=None):\n",
        "        ## ToDO: implement\n",
        "        return [- math.sin(a)]"
      ],
      "metadata": {
        "id": "FqYDZ0rvZQVr",
        "cellView": "form"
      },
      "execution_count": 4,
      "outputs": []
    },
    {
      "cell_type": "code",
      "source": [
        "#@title ToDo 3: Executing\n",
        "\n",
        "class Executor():\n",
        "\n",
        "    def __init__(self, graph: dict, in_vars: dict = {}):\n",
        "        \"\"\"\n",
        "        graph: computation graph in a data structure of your choosing\n",
        "        in_vars: dict of input variables, e.g. {\"x\": 2.0, \"y\": -1.0}\n",
        "        \"\"\"\n",
        "        self.graph = graph\n",
        "        self.in_vars = in_vars\n",
        "        self.fn_map = {\"log\": Log(), \"exp\": Exp(), \"+\": Add(), \"-\": Sub(), \"^\": Pow(), \"sin\": Sin(), \"cos\": Cos(), \"*\": Mult(), \"/\": Div()}\n",
        "        self.output = -1\n",
        "        self.derivative = {}\n",
        "        self.intermediate_values = {}\n",
        "        self.intermediate_derivatives = {}\n",
        "        self.prod = 1\n",
        "        for i in self.in_vars:\n",
        "            self.derivative[i] = 0\n",
        "\n",
        "    ## forward execution____________________________\n",
        "\n",
        "    def forward(self, ):\n",
        "        ## ToDO: implement and set self.output\n",
        "\n",
        "        for key, value in sorted(self.graph.items()):\n",
        "\n",
        "            if key in self.in_vars:\n",
        "                self.intermediate_values[key] = value\n",
        "\n",
        "            else:\n",
        "                operation = self.fn_map[value[0]]\n",
        "                operands = []\n",
        "                for item in value[1]:\n",
        "                    if item in self.intermediate_values:\n",
        "                        operands.append(self.intermediate_values[item])\n",
        "                    else:\n",
        "                        operands.append(item)\n",
        "                self.intermediate_values[key] = operation.f(*operands)\n",
        "                self.intermediate_derivatives[key] = operation.df(*operands)\n",
        "\n",
        "        self.output = self.intermediate_values[sorted(self.graph.keys())[-1]]\n",
        "\n",
        "    ## backward execution____________________________\n",
        "\n",
        "    def build_derivative(self, key, value):\n",
        "        operator, operands = value\n",
        "\n",
        "        if len(operands) == 1:\n",
        "            if operands[0] in self.in_vars:\n",
        "                self.prod *= self.intermediate_derivatives[key][0]\n",
        "                self.derivative[operands[0]] += self.prod\n",
        "                self.prod /= self.intermediate_derivatives[key][0]\n",
        "            elif not isinstance(operands[0], int):\n",
        "                self.prod *= self.intermediate_derivatives[key][0]\n",
        "                self.build_derivative(operands[0], self.graph[operands[0]])\n",
        "                self.prod /= self.intermediate_derivatives[key][0]\n",
        "\n",
        "        elif len(operands) == 2:\n",
        "            for i, operand in enumerate(operands):\n",
        "                if operand in self.in_vars:\n",
        "                    self.prod *= self.intermediate_derivatives[key][i]\n",
        "                    self.derivative[operand] += self.prod\n",
        "                    self.prod /= self.intermediate_derivatives[key][i]\n",
        "                elif not isinstance(operand, int):\n",
        "                    self.prod *= self.intermediate_derivatives[key][i]\n",
        "                    self.build_derivative(operand, self.graph[operand])\n",
        "                    self.prod /= self.intermediate_derivatives[key][i]\n",
        "\n",
        "    def backward(self, ):\n",
        "        ## ToDO: implement and set self.derivative\n",
        "        #self.derivative = {}\n",
        "        self.key, self.value = sorted(self.graph.items(), reverse=True)[0]\n",
        "        self.build_derivative(self.key, self.value)\n",
        "\n",
        "\n",
        "if __name__ == '__main__':\n",
        "  e = Executor(g.graph, in_vars=in_vars)\n",
        "  e.forward()\n",
        "  e.backward()\n",
        "  print(e.output)\n",
        "  print(e.derivative)"
      ],
      "metadata": {
        "colab": {
          "base_uri": "https://localhost:8080/"
        },
        "id": "l965tc0PZD1y",
        "outputId": "dd3c5598-abdc-4ea6-ca48-839446393da0",
        "cellView": "form"
      },
      "execution_count": 5,
      "outputs": [
        {
          "output_type": "stream",
          "name": "stdout",
          "text": [
            "3.673434487962201\n",
            "{'x': 3.7806982769800404, 'z': -50.604782939151534, 'y': 51.604782939151534}\n"
          ]
        }
      ]
    },
    {
      "cell_type": "code",
      "source": [
        "#@title Test Function for Debugging [do not change]\n",
        "\n",
        "utils.test_backprop(Builder, Executor, math_problem)"
      ],
      "metadata": {
        "colab": {
          "base_uri": "https://localhost:8080/"
        },
        "cellView": "form",
        "id": "lw-g9g_Avox_",
        "outputId": "18505d09-5659-4644-d3c2-fdc4b69d8455"
      },
      "execution_count": 6,
      "outputs": [
        {
          "output_type": "stream",
          "name": "stdout",
          "text": [
            "\n",
            "0: problem: z + sin(x^(2) + (y * exp(z))), in_vars: {'x': 2.0, 'y': -1.0, 'z': 4.0}\n",
            "SUCCESS output: 3.67\n",
            "SUCCESS derivative: {'x': 3.78, 'z': -50.6, 'y': 51.6}\n"
          ]
        }
      ]
    },
    {
      "cell_type": "code",
      "source": [
        "#@title Test Function for Grading [do not change]\n",
        "\n",
        "utils.test_backprop(Builder, Executor)"
      ],
      "metadata": {
        "colab": {
          "base_uri": "https://localhost:8080/"
        },
        "cellView": "form",
        "id": "d4qAd9lBtSmX",
        "outputId": "3d057a25-99ca-4929-b005-c93c2d64476b"
      },
      "execution_count": 7,
      "outputs": [
        {
          "output_type": "stream",
          "name": "stdout",
          "text": [
            "\n",
            "0: problem: x/y, in_vars: {'x': 2.0, 'y': 4.0}\n",
            "SUCCESS output: 0.5\n",
            "SUCCESS derivative: {'x': 0.25, 'y': -0.12}\n",
            "\n",
            "1: problem: exp(x) - (y * 4), in_vars: {'x': 3.0, 'y': 3.0}\n",
            "SUCCESS output: 8.09\n",
            "SUCCESS derivative: {'x': 20.09, 'y': -4.0}\n",
            "\n",
            "2: problem: (x^2 - 1) * (y+3), in_vars: {'x': 4.0, 'y': 2.0}\n",
            "SUCCESS output: 75.0\n",
            "SUCCESS derivative: {'x': 40.0, 'y': 15.0}\n",
            "\n",
            "3: problem: z + sin(x^(2) + (y * exp(z))), in_vars: {'x': 2.0, 'y': -1.0, 'z': 4.0}\n",
            "SUCCESS output: 3.67\n",
            "SUCCESS derivative: {'x': 3.78, 'z': -50.6, 'y': 51.6}\n"
          ]
        }
      ]
    }
  ]
}